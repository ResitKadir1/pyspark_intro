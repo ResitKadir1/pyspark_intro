{
 "cells": [
  {
   "cell_type": "markdown",
   "metadata": {},
   "source": [
    " # Basic Tranformations and Actions "
   ]
  },
  {
   "cell_type": "code",
   "execution_count": 1,
   "metadata": {},
   "outputs": [],
   "source": [
    "\n",
    "import findspark\n",
    "findspark.init(findspark.init(\"/Users/resitkadir/spark/spark-3.0.0/\"))\n",
    "import pyspark \n",
    "\n",
    "# Create SparkContext\n",
    "from pyspark.sql import SparkSession\n",
    "from pyspark.conf import SparkConf\n",
    "\n",
    "spark = SparkSession.builder \\\n",
    "    .master(\"local[4]\") \\\n",
    "    .appName(\"RDD-Olusturmak\") \\\n",
    "    .config(\"spark.executor.memory\",\"4g\") \\\n",
    "    .config(\"spark.driver.memory\",\"2g\") \\\n",
    "    .getOrCreate()\n",
    "\n",
    "sc = spark.sparkContext"
   ]
  },
  {
   "cell_type": "markdown",
   "metadata": {},
   "source": [
    "## basic trasnformations\n",
    "<font color='green'>**map()** </font>\n",
    "\n",
    "    -> current RDD {1,2,5} -> **map(x => x * x)** -> new RDD{1,4,25} \n",
    "\n",
    "\n",
    "<font color='green'>**filter()** </font>\n",
    "    \n",
    "    ->current RDD {1,5,7,9} -> **filter(x => x >4)** -> new RDD{5,7,9}\n",
    "\n",
    "\n",
    "<font color='green'>**flatMap()**  </font>\n",
    " \"Map in yapdigi isi her bir element icin ayri ayri yapar\"\n",
    "\n",
    "    -> currenr RDD {hej,John is here } -> \n",
    "\n",
    "    **flatMap(lambda x:x.split(\" \")).map(lambda x :x.upper())** ->new RDD {tek tek alt alta}\n",
    "                                                        \n",
    "                                                                        \n",
    "<font color='green'>**distinct()  :**  </font>*duplicate(unique yapar) valuelari tek yazar alir*\n",
    "                \n",
    "            --> current RDD{a,a,b,b,c} distinct{} -->new RDD ->{a,b,c}\n",
    "\n",
    "<font color='green'>**sample()**  </font>\n"
   ]
  },
  {
   "cell_type": "code",
   "execution_count": 2,
   "metadata": {},
   "outputs": [
    {
     "data": {
      "text/plain": [
       "[0, 1, 2, 3, 4, 5, 6, 7, 8, 9]"
      ]
     },
     "execution_count": 2,
     "metadata": {},
     "output_type": "execute_result"
    }
   ],
   "source": [
    "list_ = [x for x in range(10)]\n",
    "list_"
   ]
  },
  {
   "cell_type": "code",
   "execution_count": 3,
   "metadata": {},
   "outputs": [],
   "source": [
    "liste_rdd =sc.parallelize(list_)\n",
    "#convert into RDD"
   ]
  },
  {
   "cell_type": "code",
   "execution_count": null,
   "metadata": {},
   "outputs": [],
   "source": []
  },
  {
   "cell_type": "code",
   "execution_count": 4,
   "metadata": {},
   "outputs": [
    {
     "data": {
      "text/plain": [
       "[0, 1, 2, 3, 4, 5, 6, 7, 8, 9]"
      ]
     },
     "execution_count": 4,
     "metadata": {},
     "output_type": "execute_result"
    }
   ],
   "source": [
    "#Take\n",
    "liste_rdd.take(10)"
   ]
  },
  {
   "cell_type": "code",
   "execution_count": 5,
   "metadata": {},
   "outputs": [
    {
     "data": {
      "text/plain": [
       "[0, 1, 4, 9]"
      ]
     },
     "execution_count": 5,
     "metadata": {},
     "output_type": "execute_result"
    }
   ],
   "source": [
    "#map\n",
    "liste_rdd.map(lambda x : x**2 ).take(4)"
   ]
  },
  {
   "cell_type": "code",
   "execution_count": 6,
   "metadata": {},
   "outputs": [
    {
     "data": {
      "text/plain": [
       "[0, 1, 2, 3, 4]"
      ]
     },
     "execution_count": 6,
     "metadata": {},
     "output_type": "execute_result"
    }
   ],
   "source": [
    "#filter\n",
    "liste_rdd.filter(lambda x : x < 5 ).take(5)"
   ]
  },
  {
   "cell_type": "code",
   "execution_count": 7,
   "metadata": {},
   "outputs": [],
   "source": [
    "text_ = [\"He is really cool\",\"she is at home.\",\"it doesn't say so much\"]"
   ]
  },
  {
   "cell_type": "code",
   "execution_count": 8,
   "metadata": {},
   "outputs": [],
   "source": [
    "text_rdd = sc.parallelize(text_)\n",
    "#Creating RDD"
   ]
  },
  {
   "cell_type": "code",
   "execution_count": 9,
   "metadata": {},
   "outputs": [
    {
     "data": {
      "text/plain": [
       "['He is really cool', 'she is at home.', \"it doesn't say so much\"]"
      ]
     },
     "execution_count": 9,
     "metadata": {},
     "output_type": "execute_result"
    }
   ],
   "source": [
    "text_rdd.take(3)"
   ]
  },
  {
   "cell_type": "code",
   "execution_count": 10,
   "metadata": {},
   "outputs": [
    {
     "data": {
      "text/plain": [
       "['HE IS REALLY COOL', 'SHE IS AT HOME.', \"IT DOESN'T SAY SO MUCH\"]"
      ]
     },
     "execution_count": 10,
     "metadata": {},
     "output_type": "execute_result"
    }
   ],
   "source": [
    "#map\n",
    "text_rdd.map(lambda x : x.upper()).take(3)"
   ]
  },
  {
   "cell_type": "code",
   "execution_count": 11,
   "metadata": {},
   "outputs": [
    {
     "data": {
      "text/plain": [
       "['H', 'E', ' ']"
      ]
     },
     "execution_count": 11,
     "metadata": {},
     "output_type": "execute_result"
    }
   ],
   "source": [
    "#flatmap,harf olarak verdi\n",
    "text_rdd.flatMap(lambda x : x.upper()).take(3)"
   ]
  },
  {
   "cell_type": "code",
   "execution_count": 12,
   "metadata": {},
   "outputs": [
    {
     "data": {
      "text/plain": [
       "['HE', 'IS', 'REALLY', 'COOL']"
      ]
     },
     "execution_count": 12,
     "metadata": {},
     "output_type": "execute_result"
    }
   ],
   "source": [
    "##word to word splitin\n",
    "text_rdd.flatMap(lambda x : x.split(\" \")).map(lambda x : x.upper()).take(4)\n"
   ]
  },
  {
   "cell_type": "code",
   "execution_count": 13,
   "metadata": {},
   "outputs": [
    {
     "data": {
      "text/plain": [
       "[4, 1, 5, 2, 6]"
      ]
     },
     "execution_count": 13,
     "metadata": {},
     "output_type": "execute_result"
    }
   ],
   "source": [
    "list_2 = [1,1,2,2,4,5,6,6]\n",
    "list_2_rdd = sc.parallelize(list_2)\n",
    "#Distinct,unique ler sadece kalir\n",
    "list_2_rdd.distinct().take(10)"
   ]
  },
  {
   "cell_type": "code",
   "execution_count": 14,
   "metadata": {},
   "outputs": [
    {
     "data": {
      "text/plain": [
       "[2, 2, 2, 2, 4, 6, 6]"
      ]
     },
     "execution_count": 14,
     "metadata": {},
     "output_type": "execute_result"
    }
   ],
   "source": [
    "\n",
    "list_2_rdd.sample(True,0.7,42).take(10)\n",
    "#0.7 %70 al gibi\n",
    "#42 verilen orneklar ayni kalsin"
   ]
  },
  {
   "cell_type": "markdown",
   "metadata": {},
   "source": [
    "### What about 2 RDD transformations \n",
    "\n",
    "<font color='green'>**union()** : </font> \"iki RDD nin elemanlarini birlestirir tek bir RDD doner \"\n",
    "\n",
    "    --> rdd1 = {1,2,9,4,5,36}\n",
    "\n",
    "    -->rdd2 = {1,4,9,16,25,36}\n",
    "\n",
    "    rdd1.union(rdd2) -> rddUnion {1,2,9,4,5,36,1,4,9,16,25,36}\n",
    "    \n",
    "<font color='green'>**intersection()**  : </font>\n",
    " \"kesisim ikisine ait ortak elemanlari alir\"\n",
    "\n",
    "    rdd1.intersection(rdd2)->rddIntersection{1,4,9,36}\n",
    "\n",
    "<font color='green'>**subtract()**   : </font>\n",
    "  \"ilkyazilan (rdd1)deki unique degerleri sadece al\"\n",
    "    \n",
    "     rdd1.subtract(rdd2)-->rddSubtract{2,5}\n",
    "     \n",
    "     rdd2.subtract(rdd1)-->rddSubtract{16,25}\n",
    "\n",
    "<font color='green'>**Cartesian()**  : </font> \"\"butun olasilikdaki couple lari alir\"\n",
    "\n",
    "    rdd1.cartesian(rdd2)-->{(1,4),(1,9),.....(36,1)}"
   ]
  },
  {
   "cell_type": "code",
   "execution_count": 15,
   "metadata": {},
   "outputs": [
    {
     "data": {
      "text/plain": [
       "127"
      ]
     },
     "execution_count": 15,
     "metadata": {},
     "output_type": "execute_result"
    }
   ],
   "source": [
    "import subprocess as sp\n",
    "sp.call(\"cls\",shell=True)"
   ]
  },
  {
   "cell_type": "code",
   "execution_count": 16,
   "metadata": {},
   "outputs": [],
   "source": [
    "rdd1 = sc.parallelize([1,2,9,4,5,36])\n",
    "rdd2 = sc.parallelize([1,4,9,16,25,36])"
   ]
  },
  {
   "cell_type": "code",
   "execution_count": 17,
   "metadata": {},
   "outputs": [
    {
     "data": {
      "text/plain": [
       "[1, 2, 9, 4, 5, 36]"
      ]
     },
     "execution_count": 17,
     "metadata": {},
     "output_type": "execute_result"
    }
   ],
   "source": [
    "rdd1.take(10)"
   ]
  },
  {
   "cell_type": "code",
   "execution_count": 18,
   "metadata": {},
   "outputs": [
    {
     "data": {
      "text/plain": [
       "[1, 2, 9, 4, 5, 36, 1, 4, 9, 16, 25, 36]"
      ]
     },
     "execution_count": 18,
     "metadata": {},
     "output_type": "execute_result"
    }
   ],
   "source": [
    "#union\n",
    "rdd1.union(rdd2).take(12)"
   ]
  },
  {
   "cell_type": "code",
   "execution_count": 19,
   "metadata": {},
   "outputs": [
    {
     "data": {
      "text/plain": [
       "[1, 9, 4, 36]"
      ]
     },
     "execution_count": 19,
     "metadata": {},
     "output_type": "execute_result"
    }
   ],
   "source": [
    "#intersection\n",
    "rdd1.intersection(rdd2).take(6)"
   ]
  },
  {
   "cell_type": "code",
   "execution_count": 20,
   "metadata": {},
   "outputs": [
    {
     "data": {
      "text/plain": [
       "[2, 5]"
      ]
     },
     "execution_count": 20,
     "metadata": {},
     "output_type": "execute_result"
    }
   ],
   "source": [
    "#subtract\n",
    "rdd1.subtract(rdd2).take(5)"
   ]
  },
  {
   "cell_type": "code",
   "execution_count": 21,
   "metadata": {},
   "outputs": [
    {
     "data": {
      "text/plain": [
       "[16, 25]"
      ]
     },
     "execution_count": 21,
     "metadata": {},
     "output_type": "execute_result"
    }
   ],
   "source": [
    "rdd2.subtract(rdd1).take(5)"
   ]
  },
  {
   "cell_type": "code",
   "execution_count": 22,
   "metadata": {},
   "outputs": [
    {
     "data": {
      "text/plain": [
       "[(1, 1),\n",
       " (1, 4),\n",
       " (1, 9),\n",
       " (1, 16),\n",
       " (1, 25),\n",
       " (1, 36),\n",
       " (2, 1),\n",
       " (9, 1),\n",
       " (2, 4),\n",
       " (2, 9),\n",
       " (9, 4),\n",
       " (9, 9),\n",
       " (2, 16),\n",
       " (9, 16),\n",
       " (2, 25),\n",
       " (2, 36),\n",
       " (9, 25),\n",
       " (9, 36),\n",
       " (4, 1),\n",
       " (4, 4),\n",
       " (4, 9),\n",
       " (4, 16),\n",
       " (4, 25),\n",
       " (4, 36),\n",
       " (5, 1),\n",
       " (36, 1),\n",
       " (5, 4),\n",
       " (5, 9),\n",
       " (36, 4),\n",
       " (36, 9),\n",
       " (5, 16),\n",
       " (36, 16),\n",
       " (5, 25),\n",
       " (5, 36),\n",
       " (36, 25),\n",
       " (36, 36)]"
      ]
     },
     "execution_count": 22,
     "metadata": {},
     "output_type": "execute_result"
    }
   ],
   "source": [
    "#Cartesian\n",
    "rdd1.cartesian(rdd2).take(60)"
   ]
  },
  {
   "cell_type": "markdown",
   "metadata": {},
   "source": [
    "###  Basic Actions on one RDD (uygulama yerleri)\n",
    "\n",
    "<font color='green'> **collect()** : </font> *RDD uzerindeki tum elemanlari driver pc uzerine doner.Buyul RDD lerde calistirmak tehlikelidir,ornegin bizim driver 4 gb olsun ama veri 500gb olursa sikinti buyur*\n",
    "\n",
    "    --> rdd1 = {1,2,9,4,5,36}\n",
    "    Sonucu liste olarak verir\n",
    "    rdd1.collect() --> [1,2,9,4,5,36]\n",
    "    \n",
    "    \n",
    "    \n",
    "\n",
    "<font color='green'>**count() :** </font>*Eleman sayisini sayar*\n",
    "\n",
    "    rdd1.count()--> Long=6\n",
    "\n",
    "<font color='green'>**countByValue() :** </font>*Her bir elemanin RDD icinde kac kez tekrarlandigini hesaplar ve bir tuple doner*\n",
    "\n",
    "**ilk elemani sayiyi ve sonra Her elemandan kac tane oldugunu gosterir**\n",
    "      \n",
    "      \n",
    "     rdd1.countByValue() --> Map[Int,Long] = Map(5->1,1->1,....,36->1)\n",
    "\n",
    "<font color='green'>**take() :** </font> *RDD icinde istenen sayida eleman doner*\n",
    "\n",
    "    rdd1.take(3)-->Array[int] = Array(1,2,5)\n",
    "\n",
    "<font color='green'>**top() :** </font>*En ustteki 3 degeri al getir(buyukluk)*\n",
    "\n",
    "\n",
    "    rdd1.top(3)-->Array[Int]=Array(36,9,5)\n",
    "\n",
    "<font color='green'>**union()** : </font>\n",
    "\n",
    "    \n",
    "\n",
    "<font color='green'>**takeOrdered() :** </font>\n",
    "\n",
    "*RDD icindeki elemanlari siralayarak belirtilen sayi kadarini bir array olarak doner*\n",
    "\n",
    "    rdd1.takeOrdered(6)--->Array[Int]-->Array(1,2,4,5,9,36)\n",
    "\n",
    "<font color='green'>**takeSample() :** </font>*RDD icinden istenen mikatrda orneklem iceren bir Array doner*\n",
    "\n",
    "**parametreler:**\n",
    "\n",
    "**withReplacement :** Boolean(Aldigini yerine koyalimmi?) , \n",
    "\n",
    "**num:Int**(kac tane eleman alicaz) ,\n",
    "\n",
    "**seed:Long**(Her tekrarlandiginda ayni elemanlar gelsin mi?orenkde 42 verdikce 9,2,5 gelir yoksa degisir)\n",
    "\n",
    "    rdd1.takeSample(false,3,42)-->Array[Int] = Array(9,2,5)\n",
    "\n",
    "<font color='green'>**reduce() :** </font>*RDD uzerindeki elemanlari paralele olarak uygulayarak bir sonuc uretir.Orenign toplama*\n",
    "\n",
    "    (1,2,4,5,9,36)\n",
    "    \n",
    "    rdd1.reduce((x,y) => x+y) -->57\n",
    "\n",
    "<font color='green'>**fold() :** </font>*Reduce ile aynidir sadece sifir degeri farki vardir*\n",
    "\n",
    "**fold(zero)(func)**\n",
    "\n",
    "    rdd1.fold(0)((x,y) => x+y)-->57\n",
    "\n",
    "<font color='green'>**aggregate() :** </font>** *Her bir pattition elemanlarini kumeleme(aggregation) fonskiyonunu uygular ve combine fonksiyonlari ile bu sonuclari birlestirir*\n",
    "\n",
    "**aggregate(zero)(seqOp,combOp)**\n",
    "\n",
    "    rdd1.aggregate((0,0))\n",
    "    \n",
    "    ((x,y) => (x._+y,x._2+1),\n",
    "               (x._1+y._1,x._2+y._2))  ->(int,int)=(57,6)\n",
    "               \n",
    "<font color='green'>**foreach()  :** </font>"
   ]
  },
  {
   "cell_type": "code",
   "execution_count": 23,
   "metadata": {},
   "outputs": [],
   "source": [
    "rdd = sc.parallelize([1,2,9,4,2,4,5,1,1,7])"
   ]
  },
  {
   "cell_type": "code",
   "execution_count": 24,
   "metadata": {},
   "outputs": [
    {
     "data": {
      "text/plain": [
       "[1, 2, 9, 4, 2, 4, 5, 1, 1, 7]"
      ]
     },
     "execution_count": 24,
     "metadata": {},
     "output_type": "execute_result"
    }
   ],
   "source": [
    "#Collect,Action RDD sonuc olusturup drive(ram) e geliyor\n",
    "#Transformation clusterda gerceklesir driver imiza gelen bisey yok\n",
    "#RDD hespini getirir,dikkat edilmeli\n",
    "rdd.collect()"
   ]
  },
  {
   "cell_type": "code",
   "execution_count": 25,
   "metadata": {},
   "outputs": [
    {
     "data": {
      "text/plain": [
       "10"
      ]
     },
     "execution_count": 25,
     "metadata": {},
     "output_type": "execute_result"
    }
   ],
   "source": [
    "#Count\n",
    "rdd.count()"
   ]
  },
  {
   "cell_type": "code",
   "execution_count": 26,
   "metadata": {},
   "outputs": [
    {
     "data": {
      "text/plain": [
       "defaultdict(int, {1: 3, 2: 2, 9: 1, 4: 2, 5: 1, 7: 1})"
      ]
     },
     "execution_count": 26,
     "metadata": {},
     "output_type": "execute_result"
    }
   ],
   "source": [
    "#CountByValue,hangi sayidan kac tane var\n",
    "rdd.countByValue()"
   ]
  },
  {
   "cell_type": "code",
   "execution_count": 27,
   "metadata": {},
   "outputs": [
    {
     "data": {
      "text/plain": [
       "[1, 2, 9]"
      ]
     },
     "execution_count": 27,
     "metadata": {},
     "output_type": "execute_result"
    }
   ],
   "source": [
    "#take\n",
    "rdd.take(3)"
   ]
  },
  {
   "cell_type": "code",
   "execution_count": 28,
   "metadata": {},
   "outputs": [
    {
     "data": {
      "text/plain": [
       "[9, 7, 5, 4, 4]"
      ]
     },
     "execution_count": 28,
     "metadata": {},
     "output_type": "execute_result"
    }
   ],
   "source": [
    "#top,sirala\n",
    "rdd.top(5)"
   ]
  },
  {
   "cell_type": "code",
   "execution_count": 29,
   "metadata": {},
   "outputs": [
    {
     "data": {
      "text/plain": [
       "[1, 1, 1, 2]"
      ]
     },
     "execution_count": 29,
     "metadata": {},
     "output_type": "execute_result"
    }
   ],
   "source": [
    "#takeordered,takein siralanmis hali\n",
    "rdd.takeOrdered(4)"
   ]
  },
  {
   "cell_type": "code",
   "execution_count": 30,
   "metadata": {},
   "outputs": [
    {
     "data": {
      "text/plain": [
       "[1, 1, 1, 1, 9]"
      ]
     },
     "execution_count": 30,
     "metadata": {},
     "output_type": "execute_result"
    }
   ],
   "source": [
    "#Take sample,5 deger al ,seed 33 sectik,\n",
    "rdd.takeSample(\"false\",5,33)"
   ]
  },
  {
   "cell_type": "code",
   "execution_count": 31,
   "metadata": {},
   "outputs": [
    {
     "data": {
      "text/plain": [
       "[1, 1, 1, 1, 9]"
      ]
     },
     "execution_count": 31,
     "metadata": {},
     "output_type": "execute_result"
    }
   ],
   "source": [
    "rdd.takeSample(\"false\",5,33)"
   ]
  },
  {
   "cell_type": "code",
   "execution_count": 32,
   "metadata": {},
   "outputs": [
    {
     "data": {
      "text/plain": [
       "[1, 1, 1, 1, 9]"
      ]
     },
     "execution_count": 32,
     "metadata": {},
     "output_type": "execute_result"
    }
   ],
   "source": [
    "rdd.takeSample(\"True\",5,33)"
   ]
  },
  {
   "cell_type": "code",
   "execution_count": 33,
   "metadata": {},
   "outputs": [
    {
     "data": {
      "text/plain": [
       "36"
      ]
     },
     "execution_count": 33,
     "metadata": {},
     "output_type": "execute_result"
    }
   ],
   "source": [
    "#Reduce\n",
    "rdd.reduce(lambda x,y :x+y)"
   ]
  },
  {
   "cell_type": "code",
   "execution_count": 34,
   "metadata": {},
   "outputs": [
    {
     "data": {
      "text/plain": [
       "36"
      ]
     },
     "execution_count": 34,
     "metadata": {},
     "output_type": "execute_result"
    }
   ],
   "source": [
    "#Fold\n",
    "rdd.fold(0,lambda x,y :x+y)"
   ]
  },
  {
   "cell_type": "markdown",
   "metadata": {},
   "source": [
    "[1,2,3,9,4,10,5,36,8]\n",
    "\n",
    "**sc.parallelize ile datayi dagittik**\n",
    "\n",
    "*ilk uc elemanimiz thread-1 gitti(1,2,3),*\n",
    "\n",
    "0 degeri <font color='green'>**x[0]** </font>ataniyor ve oyle basliyor ve y 1 ile basliyor thread ikide x[0] yine 0 ile basliyor y ise 9 ile\n",
    "\n",
    "<font color='green'>**x[1]** </font> ile isede yine 0 dan baslayip kac tane eleman oldugunu sayiyor\n",
    "\n",
    "*ve thread-2 ye (9,4,10) gitti*\n",
    "\n",
    "![Aggregate](IMG/Aggregate.png)"
   ]
  },
  {
   "cell_type": "code",
   "execution_count": 35,
   "metadata": {},
   "outputs": [
    {
     "data": {
      "text/plain": [
       "(78, 9)"
      ]
     },
     "execution_count": 35,
     "metadata": {},
     "output_type": "execute_result"
    }
   ],
   "source": [
    "#aggregate\n",
    "rdd_a = [1,2,3,9,4,10,5,36,8]\n",
    "rdd_a = sc.parallelize(rdd_a)\n",
    "rdd_a.aggregate((0,0),(lambda x,y : (x[0] + y , x[1]+1)),(lambda x , y : (x[0] + y[0],x[1]+y[1])))\n"
   ]
  },
  {
   "cell_type": "code",
   "execution_count": 36,
   "metadata": {},
   "outputs": [],
   "source": [
    "sc.stop()"
   ]
  },
  {
   "cell_type": "markdown",
   "metadata": {},
   "source": [
    "## map  vs flatmap"
   ]
  },
  {
   "cell_type": "code",
   "execution_count": 37,
   "metadata": {},
   "outputs": [],
   "source": [
    "import findspark\n",
    "findspark.init(findspark.init(\"/Users/resitkadir/spark/spark-3.0.0/\"))\n",
    "from pyspark import SparkContext\n"
   ]
  },
  {
   "cell_type": "code",
   "execution_count": 38,
   "metadata": {},
   "outputs": [],
   "source": [
    "sc = SparkContext(\"local[4]\",\"map_flat_Map\")"
   ]
  },
  {
   "cell_type": "code",
   "execution_count": 39,
   "metadata": {},
   "outputs": [],
   "source": [
    "ppl_RDD= sc.textFile( \"data/simple_data.csv\")\n"
   ]
  },
  {
   "cell_type": "code",
   "execution_count": 40,
   "metadata": {},
   "outputs": [
    {
     "data": {
      "text/plain": [
       "['sirano,isim,yas,meslek,sehir,aylik_gelir',\n",
       " '1,Cemal,35,Isci,Ankara,3500',\n",
       " '2,Ceyda,42,Memur,Kayseri,4200',\n",
       " '3,Timur,30,Müzisyen,Istanbul,9000',\n",
       " '4,Burcu,29,Pazarlamaci,Ankara,4200']"
      ]
     },
     "execution_count": 40,
     "metadata": {},
     "output_type": "execute_result"
    }
   ],
   "source": [
    "ppl_RDD.take(5)"
   ]
  },
  {
   "cell_type": "code",
   "execution_count": 41,
   "metadata": {},
   "outputs": [],
   "source": [
    "ppl_RDD_ = ppl_RDD.filter(lambda x : \"sirano\" not in x)\n",
    "#sirano satirini alma"
   ]
  },
  {
   "cell_type": "code",
   "execution_count": 42,
   "metadata": {},
   "outputs": [
    {
     "data": {
      "text/plain": [
       "['1,Cemal,35,Isci,Ankara,3500',\n",
       " '2,Ceyda,42,Memur,Kayseri,4200',\n",
       " '3,Timur,30,Müzisyen,Istanbul,9000',\n",
       " '4,Burcu,29,Pazarlamaci,Ankara,4200',\n",
       " '5,Yasemin,23,Pazarlamaci,Bursa,4800']"
      ]
     },
     "execution_count": 42,
     "metadata": {},
     "output_type": "execute_result"
    }
   ],
   "source": [
    "ppl_RDD_.take(5)"
   ]
  },
  {
   "cell_type": "code",
   "execution_count": 43,
   "metadata": {},
   "outputs": [
    {
     "data": {
      "text/plain": [
       "['1,CEMAL,35,ISCI,ANKARA,3500',\n",
       " '2,CEYDA,42,MEMUR,KAYSERI,4200',\n",
       " '3,TIMUR,30,MÜZISYEN,ISTANBUL,9000',\n",
       " '4,BURCU,29,PAZARLAMACI,ANKARA,4200',\n",
       " '5,YASEMIN,23,PAZARLAMACI,BURSA,4800']"
      ]
     },
     "execution_count": 43,
     "metadata": {},
     "output_type": "execute_result"
    }
   ],
   "source": [
    "#map satira odaklanir\n",
    "ppl_RDD_.map(lambda x : x.upper()).take(5)"
   ]
  },
  {
   "cell_type": "code",
   "execution_count": 44,
   "metadata": {},
   "outputs": [
    {
     "data": {
      "text/plain": [
       "['1', ',', 'C', 'E', 'M']"
      ]
     },
     "execution_count": 44,
     "metadata": {},
     "output_type": "execute_result"
    }
   ],
   "source": [
    "#flatmap\n",
    "ppl_RDD_.flatMap(lambda x :x.upper()).take(5)"
   ]
  },
  {
   "cell_type": "code",
   "execution_count": 45,
   "metadata": {},
   "outputs": [
    {
     "data": {
      "text/plain": [
       "['1',\n",
       " 'CEMAL',\n",
       " '35',\n",
       " 'ISCI',\n",
       " 'ANKARA',\n",
       " '3500',\n",
       " '2',\n",
       " 'CEYDA',\n",
       " '42',\n",
       " 'MEMUR',\n",
       " 'KAYSERI',\n",
       " '4200',\n",
       " '3',\n",
       " 'TIMUR',\n",
       " '30']"
      ]
     },
     "execution_count": 45,
     "metadata": {},
     "output_type": "execute_result"
    }
   ],
   "source": [
    "ppl_RDD_.flatMap(lambda x :x.split(\",\")).map(lambda x :x.upper()).take(15)"
   ]
  },
  {
   "cell_type": "code",
   "execution_count": 46,
   "metadata": {},
   "outputs": [],
   "source": [
    "sc.stop()"
   ]
  },
  {
   "cell_type": "markdown",
   "metadata": {},
   "source": [
    "# TEST "
   ]
  },
  {
   "cell_type": "markdown",
   "metadata": {},
   "source": [
    "**1. SparkContext sınıfını kullanarak local modda çalışan 2 çekirdek, 2 Gb. driver, 3 Gb executor belleğine sahip, \"Test\" isimli ekrana \"Merhaba Spark\" yazan bir Spark uygulaması yazınız**"
   ]
  },
  {
   "cell_type": "code",
   "execution_count": 47,
   "metadata": {},
   "outputs": [],
   "source": [
    "import findspark\n",
    "findspark.init(findspark.init(\"/Users/resitkadir/spark/spark-3.0.0/\"))"
   ]
  },
  {
   "cell_type": "code",
   "execution_count": 48,
   "metadata": {},
   "outputs": [],
   "source": [
    "#spark Context sinifi ile kurmamiz lazim\n",
    "from pyspark import SparkContext\n",
    "from pyspark.conf import SparkConf"
   ]
  },
  {
   "cell_type": "code",
   "execution_count": 49,
   "metadata": {},
   "outputs": [],
   "source": [
    "spark_conf =   SparkConf(). \\\n",
    "                  setMaster(\"local[2]\"). \\\n",
    "                setAppName(\"Test\"). \\\n",
    "                set(\"spark.driver.memory\",\"2g\"). \\\n",
    "                setExecutorEnv(\"spark.executor.memory\",\"3g\")"
   ]
  },
  {
   "cell_type": "code",
   "execution_count": 50,
   "metadata": {},
   "outputs": [],
   "source": [
    "#spark context olusturalim\n",
    "sc = SparkContext(conf=spark_conf)"
   ]
  },
  {
   "cell_type": "code",
   "execution_count": 51,
   "metadata": {},
   "outputs": [
    {
     "name": "stdout",
     "output_type": "stream",
     "text": [
      "hello Spark\n"
     ]
    }
   ],
   "source": [
    "print(\"hello Spark\")"
   ]
  },
  {
   "cell_type": "markdown",
   "metadata": {},
   "source": [
    "**2.) 3,7,13,15,22,36,7,11,3,25 rakamlarından bir RDD oluşturunuz.**"
   ]
  },
  {
   "cell_type": "code",
   "execution_count": 52,
   "metadata": {},
   "outputs": [
    {
     "data": {
      "text/plain": [
       "[3, 7, 13, 15, 22, 36, 7, 11, 3, 25]"
      ]
     },
     "execution_count": 52,
     "metadata": {},
     "output_type": "execute_result"
    }
   ],
   "source": [
    "rdd_=[3,7,13,15,22,36,7,11,3,25]\n",
    "rdd_s =sc.parallelize(rdd_)\n",
    "rdd_s.collect()"
   ]
  },
  {
   "cell_type": "markdown",
   "metadata": {},
   "source": [
    "**3. \"Spark'ı öğrenmek çok heyecan verici\" cümlesinin tüm harflerini büyük harf yapınız.**"
   ]
  },
  {
   "cell_type": "code",
   "execution_count": 53,
   "metadata": {},
   "outputs": [
    {
     "data": {
      "text/plain": [
       "[\"SPARK'I ÖĞRENMEK ÇOK HEYECAN VERICI\"]"
      ]
     },
     "execution_count": 53,
     "metadata": {},
     "output_type": "execute_result"
    }
   ],
   "source": [
    "a = [\"Spark'ı öğrenmek çok heyecan verici\"]\n",
    "a=sc.parallelize(a)\n",
    "a.map(lambda x : x.upper()).take(4)\n",
    "\n",
    "#yol-2\n",
    "text_rdd = sc.parallelize([\"Spark'ı öğrenmek çok heyecan verici\"])\n",
    "text_rdd.map(lambda x :x.upper()).collect()"
   ]
  },
  {
   "cell_type": "markdown",
   "metadata": {},
   "source": [
    "**4.) https://github.com/veribilimiokulu/udemy-apache-spark/blob/master/docs/Ubuntu_Spark_Kurulumu.txt adresindeki text dosyasını Spark ile okuyarak kaç satırdan oluştuğunu ekrana yazdırınız.**"
   ]
  },
  {
   "cell_type": "code",
   "execution_count": 54,
   "metadata": {},
   "outputs": [],
   "source": [
    "text_ = sc.textFile(\"data/soru_4.txt\").count()\n"
   ]
  },
  {
   "cell_type": "code",
   "execution_count": 55,
   "metadata": {},
   "outputs": [
    {
     "data": {
      "text/plain": [
       "76"
      ]
     },
     "execution_count": 55,
     "metadata": {},
     "output_type": "execute_result"
    }
   ],
   "source": [
    "text_"
   ]
  },
  {
   "cell_type": "markdown",
   "metadata": {},
   "source": [
    "**5. https://github.com/veribilimiokulu/udemy-apache-spark/blob/master/docs/Ubuntu_Spark_Kurulumu.txt adresindeki text dosyasını Spark ile okuyarak kaç kelimeden oluştuğunu ekrana yazdırınız. (Kelimeler tekrarlanabilir)**"
   ]
  },
  {
   "cell_type": "code",
   "execution_count": 56,
   "metadata": {},
   "outputs": [
    {
     "data": {
      "text/plain": [
       "237"
      ]
     },
     "execution_count": 56,
     "metadata": {},
     "output_type": "execute_result"
    }
   ],
   "source": [
    "text_ = sc.textFile(\"data/soru_4.txt\")\n",
    "text_.flatMap(lambda x : x.split(\" \")).map(lambda x : x.upper()).count()\n"
   ]
  },
  {
   "cell_type": "markdown",
   "metadata": {},
   "source": [
    "**6. İkinci sorudaki rakam listesi ile 1,2,3,4,5,6,7,8,9,10 listesi arasındaki kesişim kümesini(ortak rakamları) Spark uygulaması ile ekrana yazdırınız.**"
   ]
  },
  {
   "cell_type": "code",
   "execution_count": 57,
   "metadata": {},
   "outputs": [
    {
     "data": {
      "text/plain": [
       "[3, 7]"
      ]
     },
     "execution_count": 57,
     "metadata": {},
     "output_type": "execute_result"
    }
   ],
   "source": [
    "rdd_s.collect()\n",
    "rdd_2 = sc.parallelize([1,2,3,4,5,6,7,8,9,10 ])\n",
    "rdd_s.intersection(rdd_2).collect()"
   ]
  },
  {
   "cell_type": "markdown",
   "metadata": {},
   "source": [
    "**7. İkinci sorudaki rakamların tekil (rakamların tekrarlanmaması) halinden oluşan bir RDD yaratınız.**"
   ]
  },
  {
   "cell_type": "code",
   "execution_count": 58,
   "metadata": {},
   "outputs": [
    {
     "data": {
      "text/plain": [
       "[3, 7, 13, 15, 22, 36, 7, 11, 3, 25]"
      ]
     },
     "execution_count": 58,
     "metadata": {},
     "output_type": "execute_result"
    }
   ],
   "source": [
    "rdd_s.collect()"
   ]
  },
  {
   "cell_type": "code",
   "execution_count": 59,
   "metadata": {},
   "outputs": [
    {
     "data": {
      "text/plain": [
       "[22, 36, 3, 7, 13, 15, 11, 25]"
      ]
     },
     "execution_count": 59,
     "metadata": {},
     "output_type": "execute_result"
    }
   ],
   "source": [
    "rdd_s.distinct().collect()"
   ]
  },
  {
   "cell_type": "markdown",
   "metadata": {},
   "source": [
    "**8. İkinci sorudaki rakamların liste içinde kaçar kez tekrarlandıklarını (frekanslarını) bulan bir Spark uygulaması yazınız.**"
   ]
  },
  {
   "cell_type": "code",
   "execution_count": 60,
   "metadata": {},
   "outputs": [],
   "source": [
    "rdd_2=sc.parallelize([3,7,13,15,22,36,7,11,3,25])"
   ]
  },
  {
   "cell_type": "code",
   "execution_count": 61,
   "metadata": {},
   "outputs": [
    {
     "data": {
      "text/plain": [
       "[3, 7, 13, 15, 22, 36, 7, 11, 3, 25]"
      ]
     },
     "execution_count": 61,
     "metadata": {},
     "output_type": "execute_result"
    }
   ],
   "source": [
    "rdd_2.collect()"
   ]
  },
  {
   "cell_type": "code",
   "execution_count": 62,
   "metadata": {},
   "outputs": [
    {
     "data": {
      "text/plain": [
       "defaultdict(int, {3: 2, 7: 2, 13: 1, 15: 1, 22: 1, 36: 1, 11: 1, 25: 1})"
      ]
     },
     "execution_count": 62,
     "metadata": {},
     "output_type": "execute_result"
    }
   ],
   "source": [
    "rdd_2.countByValue()"
   ]
  },
  {
   "cell_type": "code",
   "execution_count": 63,
   "metadata": {},
   "outputs": [
    {
     "data": {
      "text/plain": [
       "[(3, 1),\n",
       " (7, 1),\n",
       " (13, 1),\n",
       " (15, 1),\n",
       " (22, 1),\n",
       " (36, 1),\n",
       " (7, 1),\n",
       " (11, 1),\n",
       " (3, 1),\n",
       " (25, 1)]"
      ]
     },
     "execution_count": 63,
     "metadata": {},
     "output_type": "execute_result"
    }
   ],
   "source": [
    "rdd_2.map(lambda x :(x,1)).collect()"
   ]
  },
  {
   "cell_type": "code",
   "execution_count": 64,
   "metadata": {},
   "outputs": [
    {
     "data": {
      "text/plain": [
       "[(3, 2), (7, 2), (11, 1), (13, 1), (15, 1), (22, 1), (25, 1), (36, 1)]"
      ]
     },
     "execution_count": 64,
     "metadata": {},
     "output_type": "execute_result"
    }
   ],
   "source": [
    "rdd_2.map(lambda x :(x,1)).reduceByKey(lambda x,y :x+y).sortByKey().collect()"
   ]
  },
  {
   "cell_type": "code",
   "execution_count": 65,
   "metadata": {},
   "outputs": [
    {
     "data": {
      "text/plain": [
       "[(22, 1), (36, 1), (3, 2), (7, 2), (13, 1), (15, 1), (11, 1), (25, 1)]"
      ]
     },
     "execution_count": 65,
     "metadata": {},
     "output_type": "execute_result"
    }
   ],
   "source": [
    "rdd_2.map(lambda x :(x,1)).reduceByKey(lambda x,y :x+y).collect()"
   ]
  },
  {
   "cell_type": "code",
   "execution_count": 66,
   "metadata": {},
   "outputs": [],
   "source": [
    "sc.stop()"
   ]
  },
  {
   "cell_type": "code",
   "execution_count": null,
   "metadata": {},
   "outputs": [],
   "source": []
  },
  {
   "cell_type": "code",
   "execution_count": null,
   "metadata": {},
   "outputs": [],
   "source": []
  }
 ],
 "metadata": {
  "kernelspec": {
   "display_name": "Python 3",
   "language": "python",
   "name": "python3"
  },
  "language_info": {
   "codemirror_mode": {
    "name": "ipython",
    "version": 3
   },
   "file_extension": ".py",
   "mimetype": "text/x-python",
   "name": "python",
   "nbconvert_exporter": "python",
   "pygments_lexer": "ipython3",
   "version": "3.7.6"
  }
 },
 "nbformat": 4,
 "nbformat_minor": 4
}
