{
 "cells": [
  {
   "cell_type": "markdown",
   "metadata": {},
   "source": [
    "* [Index]\n",
    "\n",
    "* [Simple Regression](#1)\n",
    "* [Multi-Regression Model](#2)\n",
    "    * [Multi-Reg Example](#3)"
   ]
  },
  {
   "cell_type": "markdown",
   "metadata": {},
   "source": [
    "# Simple Regression"
   ]
  },
  {
   "cell_type": "code",
   "execution_count": 1,
   "metadata": {},
   "outputs": [],
   "source": [
    "import findspark\n",
    "findspark.init(\"/Users/resitkadir/spark/spark-3.0.0/\")\n",
    "from pyspark.sql import SparkSession\n",
    "\n",
    "spark = SparkSession.builder \\\n",
    "        .appName(\"LinearRegression\") \\\n",
    "        .master(\"local[4]\") \\\n",
    "        .config(\"spark.driver.memory\",\"2g\") \\\n",
    "        .config(\"spark.executor.memory\",\"4g\") \\\n",
    "        .getOrCreate()\n",
    "\n"
   ]
  },
  {
   "cell_type": "markdown",
   "metadata": {},
   "source": [
    "### Verisetini okuma\n",
    "\n",
    "    // veriyi okuyarak dataframe oluşturma\n",
    "    // Veri hakkında kısa bilgi: Bir ürünün satış miktarında kullanılan reklam bütçesine ait 200 adet veri\n",
    "    // Veri kaynağı: https://www.kaggle.com/ishaanv/ISLR-Auto#Advertising.csv"
   ]
  },
  {
   "cell_type": "code",
   "execution_count": 2,
   "metadata": {},
   "outputs": [
    {
     "data": {
      "text/html": [
       "<div>\n",
       "<style scoped>\n",
       "    .dataframe tbody tr th:only-of-type {\n",
       "        vertical-align: middle;\n",
       "    }\n",
       "\n",
       "    .dataframe tbody tr th {\n",
       "        vertical-align: top;\n",
       "    }\n",
       "\n",
       "    .dataframe thead th {\n",
       "        text-align: right;\n",
       "    }\n",
       "</style>\n",
       "<table border=\"1\" class=\"dataframe\">\n",
       "  <thead>\n",
       "    <tr style=\"text-align: right;\">\n",
       "      <th></th>\n",
       "      <th>_c0</th>\n",
       "      <th>TV</th>\n",
       "      <th>Radio</th>\n",
       "      <th>Newspaper</th>\n",
       "      <th>Sales</th>\n",
       "    </tr>\n",
       "  </thead>\n",
       "  <tbody>\n",
       "    <tr>\n",
       "      <th>0</th>\n",
       "      <td>1</td>\n",
       "      <td>230.1</td>\n",
       "      <td>37.8</td>\n",
       "      <td>69.2</td>\n",
       "      <td>22.1</td>\n",
       "    </tr>\n",
       "    <tr>\n",
       "      <th>1</th>\n",
       "      <td>2</td>\n",
       "      <td>44.5</td>\n",
       "      <td>39.3</td>\n",
       "      <td>45.1</td>\n",
       "      <td>10.4</td>\n",
       "    </tr>\n",
       "    <tr>\n",
       "      <th>2</th>\n",
       "      <td>3</td>\n",
       "      <td>17.2</td>\n",
       "      <td>45.9</td>\n",
       "      <td>69.3</td>\n",
       "      <td>9.3</td>\n",
       "    </tr>\n",
       "    <tr>\n",
       "      <th>3</th>\n",
       "      <td>4</td>\n",
       "      <td>151.5</td>\n",
       "      <td>41.3</td>\n",
       "      <td>58.5</td>\n",
       "      <td>18.5</td>\n",
       "    </tr>\n",
       "    <tr>\n",
       "      <th>4</th>\n",
       "      <td>5</td>\n",
       "      <td>180.8</td>\n",
       "      <td>10.8</td>\n",
       "      <td>58.4</td>\n",
       "      <td>12.9</td>\n",
       "    </tr>\n",
       "  </tbody>\n",
       "</table>\n",
       "</div>"
      ],
      "text/plain": [
       "   _c0     TV  Radio  Newspaper  Sales\n",
       "0    1  230.1   37.8       69.2   22.1\n",
       "1    2   44.5   39.3       45.1   10.4\n",
       "2    3   17.2   45.9       69.3    9.3\n",
       "3    4  151.5   41.3       58.5   18.5\n",
       "4    5  180.8   10.8       58.4   12.9"
      ]
     },
     "execution_count": 2,
     "metadata": {},
     "output_type": "execute_result"
    }
   ],
   "source": [
    "df = spark.read.format(\"csv\") \\\n",
    "    .option(\"header\",True) \\\n",
    "    .option(\"sep\",\",\") \\\n",
    "    .option(\"inferSchema\",True) \\\n",
    "    .load(\"datasets/Advertising.csv\")\n",
    "\n",
    "\n",
    "df.toPandas().head()"
   ]
  },
  {
   "cell_type": "code",
   "execution_count": 3,
   "metadata": {},
   "outputs": [
    {
     "data": {
      "text/html": [
       "<div>\n",
       "<style scoped>\n",
       "    .dataframe tbody tr th:only-of-type {\n",
       "        vertical-align: middle;\n",
       "    }\n",
       "\n",
       "    .dataframe tbody tr th {\n",
       "        vertical-align: top;\n",
       "    }\n",
       "\n",
       "    .dataframe thead th {\n",
       "        text-align: right;\n",
       "    }\n",
       "</style>\n",
       "<table border=\"1\" class=\"dataframe\">\n",
       "  <thead>\n",
       "    <tr style=\"text-align: right;\">\n",
       "      <th></th>\n",
       "      <th>_c0</th>\n",
       "      <th>label</th>\n",
       "      <th>Advertisement</th>\n",
       "    </tr>\n",
       "  </thead>\n",
       "  <tbody>\n",
       "    <tr>\n",
       "      <th>0</th>\n",
       "      <td>1</td>\n",
       "      <td>22.1</td>\n",
       "      <td>337.1</td>\n",
       "    </tr>\n",
       "    <tr>\n",
       "      <th>1</th>\n",
       "      <td>2</td>\n",
       "      <td>10.4</td>\n",
       "      <td>128.9</td>\n",
       "    </tr>\n",
       "    <tr>\n",
       "      <th>2</th>\n",
       "      <td>3</td>\n",
       "      <td>9.3</td>\n",
       "      <td>132.4</td>\n",
       "    </tr>\n",
       "    <tr>\n",
       "      <th>3</th>\n",
       "      <td>4</td>\n",
       "      <td>18.5</td>\n",
       "      <td>251.3</td>\n",
       "    </tr>\n",
       "    <tr>\n",
       "      <th>4</th>\n",
       "      <td>5</td>\n",
       "      <td>12.9</td>\n",
       "      <td>250.0</td>\n",
       "    </tr>\n",
       "  </tbody>\n",
       "</table>\n",
       "</div>"
      ],
      "text/plain": [
       "   _c0  label  Advertisement\n",
       "0    1   22.1          337.1\n",
       "1    2   10.4          128.9\n",
       "2    3    9.3          132.4\n",
       "3    4   18.5          251.3\n",
       "4    5   12.9          250.0"
      ]
     },
     "execution_count": 3,
     "metadata": {},
     "output_type": "execute_result"
    }
   ],
   "source": [
    "## TV, Radio, Newspaper sütunlarını toplayıp Advertisement adında yeni nitelik oluşturup bunları düşürelim\n",
    "## since we will do basic linear regression, we will focusin on only a columnn\n",
    "\n",
    "df2 = df.withColumn(\"Advertisement\", (df.TV + df.Radio + df.Newspaper)) \\\n",
    "        .withColumnRenamed(\"Sales\",\"label\") \\\n",
    "        .drop(\"TV\",\"Radio\",\"Newspaper\")\n",
    "df2.toPandas().head()"
   ]
  },
  {
   "cell_type": "code",
   "execution_count": 4,
   "metadata": {},
   "outputs": [
    {
     "data": {
      "text/html": [
       "<div>\n",
       "<style scoped>\n",
       "    .dataframe tbody tr th:only-of-type {\n",
       "        vertical-align: middle;\n",
       "    }\n",
       "\n",
       "    .dataframe tbody tr th {\n",
       "        vertical-align: top;\n",
       "    }\n",
       "\n",
       "    .dataframe thead th {\n",
       "        text-align: right;\n",
       "    }\n",
       "</style>\n",
       "<table border=\"1\" class=\"dataframe\">\n",
       "  <thead>\n",
       "    <tr style=\"text-align: right;\">\n",
       "      <th></th>\n",
       "      <th>summary</th>\n",
       "      <th>Advertisement</th>\n",
       "      <th>label</th>\n",
       "    </tr>\n",
       "  </thead>\n",
       "  <tbody>\n",
       "    <tr>\n",
       "      <th>0</th>\n",
       "      <td>count</td>\n",
       "      <td>200</td>\n",
       "      <td>200</td>\n",
       "    </tr>\n",
       "    <tr>\n",
       "      <th>1</th>\n",
       "      <td>mean</td>\n",
       "      <td>200.86049999999992</td>\n",
       "      <td>14.022500000000003</td>\n",
       "    </tr>\n",
       "    <tr>\n",
       "      <th>2</th>\n",
       "      <td>stddev</td>\n",
       "      <td>92.9851805869837</td>\n",
       "      <td>5.217456565710477</td>\n",
       "    </tr>\n",
       "    <tr>\n",
       "      <th>3</th>\n",
       "      <td>min</td>\n",
       "      <td>11.7</td>\n",
       "      <td>1.6</td>\n",
       "    </tr>\n",
       "    <tr>\n",
       "      <th>4</th>\n",
       "      <td>max</td>\n",
       "      <td>433.6</td>\n",
       "      <td>27.0</td>\n",
       "    </tr>\n",
       "  </tbody>\n",
       "</table>\n",
       "</div>"
      ],
      "text/plain": [
       "  summary       Advertisement               label\n",
       "0   count                 200                 200\n",
       "1    mean  200.86049999999992  14.022500000000003\n",
       "2  stddev    92.9851805869837   5.217456565710477\n",
       "3     min                11.7                 1.6\n",
       "4     max               433.6                27.0"
      ]
     },
     "execution_count": 4,
     "metadata": {},
     "output_type": "execute_result"
    }
   ],
   "source": [
    "#Data preprocessing\n",
    "df2.describe(\"Advertisement\",\"label\").toPandas().head()"
   ]
  },
  {
   "cell_type": "markdown",
   "metadata": {},
   "source": [
    "*Since we dont have any kind of **categoreical feature** in our dataset\n",
    "we dont need to use **stringindexer or one hot encoder**\n",
    "we will just user* **VectorAssembler**"
   ]
  },
  {
   "cell_type": "code",
   "execution_count": 5,
   "metadata": {},
   "outputs": [],
   "source": [
    "#no missin values at above\n",
    "\n",
    "#VECTOR ASSEMBLER\n",
    "\n",
    "from pyspark.ml.feature import VectorAssembler\n",
    "vectorAssembler = VectorAssembler() \\\n",
    "                    .setInputCols([\"Advertisement\"]) \\\n",
    "                    .setOutputCol(\"features\")"
   ]
  },
  {
   "cell_type": "code",
   "execution_count": 6,
   "metadata": {},
   "outputs": [],
   "source": [
    "#RegressionModel\n",
    "#we dont need stadart scaler since our data is stable\n",
    "from pyspark.ml.regression import LinearRegression\n",
    "linear_reg_obj = LinearRegression() \\\n",
    "                .setLabelCol(\"label\") \\\n",
    "                .setFeaturesCol(\"features\")"
   ]
  },
  {
   "cell_type": "markdown",
   "metadata": {},
   "source": [
    "**PIPELINE**"
   ]
  },
  {
   "cell_type": "code",
   "execution_count": 7,
   "metadata": {},
   "outputs": [
    {
     "data": {
      "text/html": [
       "<div>\n",
       "<style scoped>\n",
       "    .dataframe tbody tr th:only-of-type {\n",
       "        vertical-align: middle;\n",
       "    }\n",
       "\n",
       "    .dataframe tbody tr th {\n",
       "        vertical-align: top;\n",
       "    }\n",
       "\n",
       "    .dataframe thead th {\n",
       "        text-align: right;\n",
       "    }\n",
       "</style>\n",
       "<table border=\"1\" class=\"dataframe\">\n",
       "  <thead>\n",
       "    <tr style=\"text-align: right;\">\n",
       "      <th></th>\n",
       "      <th>_c0</th>\n",
       "      <th>label</th>\n",
       "      <th>Advertisement</th>\n",
       "      <th>features</th>\n",
       "      <th>prediction</th>\n",
       "    </tr>\n",
       "  </thead>\n",
       "  <tbody>\n",
       "    <tr>\n",
       "      <th>0</th>\n",
       "      <td>4</td>\n",
       "      <td>18.5</td>\n",
       "      <td>251.3</td>\n",
       "      <td>[251.3]</td>\n",
       "      <td>16.553870</td>\n",
       "    </tr>\n",
       "    <tr>\n",
       "      <th>1</th>\n",
       "      <td>9</td>\n",
       "      <td>4.8</td>\n",
       "      <td>11.7</td>\n",
       "      <td>[11.7]</td>\n",
       "      <td>4.929785</td>\n",
       "    </tr>\n",
       "    <tr>\n",
       "      <th>2</th>\n",
       "      <td>11</td>\n",
       "      <td>8.6</td>\n",
       "      <td>96.1</td>\n",
       "      <td>[96.1]</td>\n",
       "      <td>9.024412</td>\n",
       "    </tr>\n",
       "    <tr>\n",
       "      <th>3</th>\n",
       "      <td>15</td>\n",
       "      <td>19.0</td>\n",
       "      <td>283.0</td>\n",
       "      <td>[283.0]</td>\n",
       "      <td>18.091781</td>\n",
       "    </tr>\n",
       "    <tr>\n",
       "      <th>4</th>\n",
       "      <td>25</td>\n",
       "      <td>9.7</td>\n",
       "      <td>93.2</td>\n",
       "      <td>[93.19999999999999]</td>\n",
       "      <td>8.883720</td>\n",
       "    </tr>\n",
       "  </tbody>\n",
       "</table>\n",
       "</div>"
      ],
      "text/plain": [
       "   _c0  label  Advertisement             features  prediction\n",
       "0    4   18.5          251.3              [251.3]   16.553870\n",
       "1    9    4.8           11.7               [11.7]    4.929785\n",
       "2   11    8.6           96.1               [96.1]    9.024412\n",
       "3   15   19.0          283.0              [283.0]   18.091781\n",
       "4   25    9.7           93.2  [93.19999999999999]    8.883720"
      ]
     },
     "execution_count": 7,
     "metadata": {},
     "output_type": "execute_result"
    }
   ],
   "source": [
    "#Lets create pipeline object(nesnesi)\n",
    "from pyspark.ml import Pipeline\n",
    "pipeline_obj = Pipeline() \\\n",
    "                .setStages([vectorAssembler, linear_reg_obj])\n",
    "\n",
    "#test train split\n",
    "train_df, test_df = df2.randomSplit([0.8, 0.2], seed=142)\n",
    "#train Model\n",
    "pipeline_model = pipeline_obj.fit(train_df)\n",
    "#Transform test data\n",
    "result_df = pipeline_model.transform(test_df)\n",
    "result_df.toPandas().head()\n",
    "#label is actual and prediction is our model result"
   ]
  },
  {
   "cell_type": "markdown",
   "metadata": {},
   "source": [
    "#### LinearRegresyon Modelini Pipeline Stages arasından alma"
   ]
  },
  {
   "cell_type": "code",
   "execution_count": 8,
   "metadata": {},
   "outputs": [
    {
     "data": {
      "text/plain": [
       "[VectorAssembler_ef7282af8b80,\n",
       " LinearRegressionModel: uid=LinearRegression_09b8523148e9, numFeatures=1]"
      ]
     },
     "execution_count": 8,
     "metadata": {},
     "output_type": "execute_result"
    }
   ],
   "source": [
    "pipeline_model.stages\n",
    "#0 is Vector,1 is Linear Regression model"
   ]
  },
  {
   "cell_type": "code",
   "execution_count": 9,
   "metadata": {},
   "outputs": [],
   "source": [
    "lrModel = pipeline_model.stages[1]"
   ]
  },
  {
   "cell_type": "code",
   "execution_count": 10,
   "metadata": {},
   "outputs": [
    {
     "data": {
      "text/plain": [
       "DenseVector([0.0485])"
      ]
     },
     "execution_count": 10,
     "metadata": {},
     "output_type": "execute_result"
    }
   ],
   "source": [
    "lrModel.coefficients"
   ]
  },
  {
   "cell_type": "code",
   "execution_count": 11,
   "metadata": {},
   "outputs": [
    {
     "data": {
      "text/plain": [
       "0.7541832816333721"
      ]
     },
     "execution_count": 11,
     "metadata": {},
     "output_type": "execute_result"
    }
   ],
   "source": [
    "lrModel.summary.r2"
   ]
  },
  {
   "cell_type": "code",
   "execution_count": 12,
   "metadata": {},
   "outputs": [
    {
     "data": {
      "text/plain": [
       "4.362164413237526"
      ]
     },
     "execution_count": 12,
     "metadata": {},
     "output_type": "execute_result"
    }
   ],
   "source": [
    "lrModel.intercept #our constant value"
   ]
  },
  {
   "cell_type": "code",
   "execution_count": 13,
   "metadata": {},
   "outputs": [
    {
     "data": {
      "text/plain": [
       "[0.0, 6.661338147750939e-16]"
      ]
     },
     "execution_count": 13,
     "metadata": {},
     "output_type": "execute_result"
    }
   ],
   "source": [
    "#bu model anlamlimi\n",
    "lrModel.summary.pValues"
   ]
  },
  {
   "cell_type": "code",
   "execution_count": 14,
   "metadata": {},
   "outputs": [
    {
     "data": {
      "text/plain": [
       "[22.086724008307982, 8.977906065711718]"
      ]
     },
     "execution_count": 14,
     "metadata": {},
     "output_type": "execute_result"
    }
   ],
   "source": [
    "lrModel.summary.tValues"
   ]
  },
  {
   "cell_type": "code",
   "execution_count": 15,
   "metadata": {},
   "outputs": [
    {
     "data": {
      "text/plain": [
       "2.540740128120867"
      ]
     },
     "execution_count": 15,
     "metadata": {},
     "output_type": "execute_result"
    }
   ],
   "source": [
    "#root mean square Error\n",
    "lrModel.summary.rootMeanSquaredError"
   ]
  },
  {
   "cell_type": "code",
   "execution_count": 16,
   "metadata": {},
   "outputs": [],
   "source": [
    "## Regression Model = intercept + coeffe * Advertisement\n",
    "# y = 4.537119328969264 + 0.0472 * Advertisement\n",
    "#toplam satista Adverstimenet coeff kadar etkisi oluyor"
   ]
  },
  {
   "cell_type": "code",
   "execution_count": 17,
   "metadata": {},
   "outputs": [
    {
     "name": "stdout",
     "output_type": "stream",
     "text": [
      "+-------------+\n",
      "|Advertisement|\n",
      "+-------------+\n",
      "|        100.0|\n",
      "+-------------+\n",
      "\n"
     ]
    }
   ],
   "source": [
    "#Reklam butcesine gore ayarlama\n",
    "#100K budged\n",
    "#Lets create data fram with RDD\n",
    "\n",
    "df_precit_rdd = spark.sparkContext.parallelize([100.0])\n",
    "df_predict = df_precit_rdd.map(lambda x :(x,)).toDF([\"Advertisement\"])\n",
    "df_predict.show()"
   ]
  },
  {
   "cell_type": "code",
   "execution_count": 18,
   "metadata": {},
   "outputs": [
    {
     "data": {
      "text/plain": [
       "9.257119328969264"
      ]
     },
     "execution_count": 18,
     "metadata": {},
     "output_type": "execute_result"
    }
   ],
   "source": [
    "#100 k yi 9.2 K diye tahmin etti\n",
    "4.537119328969264 + 0.0472 * 100\n",
    "#tutarli mi ya bakalim,sayilar cok yakin tutarli"
   ]
  },
  {
   "cell_type": "code",
   "execution_count": 19,
   "metadata": {},
   "outputs": [
    {
     "data": {
      "text/html": [
       "<div>\n",
       "<style scoped>\n",
       "    .dataframe tbody tr th:only-of-type {\n",
       "        vertical-align: middle;\n",
       "    }\n",
       "\n",
       "    .dataframe tbody tr th {\n",
       "        vertical-align: top;\n",
       "    }\n",
       "\n",
       "    .dataframe thead th {\n",
       "        text-align: right;\n",
       "    }\n",
       "</style>\n",
       "<table border=\"1\" class=\"dataframe\">\n",
       "  <thead>\n",
       "    <tr style=\"text-align: right;\">\n",
       "      <th></th>\n",
       "      <th>Advertisement</th>\n",
       "      <th>features</th>\n",
       "      <th>prediction</th>\n",
       "    </tr>\n",
       "  </thead>\n",
       "  <tbody>\n",
       "    <tr>\n",
       "      <th>0</th>\n",
       "      <td>100.0</td>\n",
       "      <td>[100.0]</td>\n",
       "      <td>9.213619</td>\n",
       "    </tr>\n",
       "  </tbody>\n",
       "</table>\n",
       "</div>"
      ],
      "text/plain": [
       "   Advertisement features  prediction\n",
       "0          100.0  [100.0]    9.213619"
      ]
     },
     "execution_count": 19,
     "metadata": {},
     "output_type": "execute_result"
    }
   ],
   "source": [
    "df_pred_vec = vectorAssembler.transform(df_predict)\n",
    "lrModel.transform(df_pred_vec).toPandas().head()"
   ]
  },
  {
   "cell_type": "markdown",
   "metadata": {},
   "source": [
    "# Multi Regressions\n",
    "\n",
    "*hatalarin dogruya degil duzleme olan uzakliklarndan bahsediliyor*\n",
    "\n",
    "**Varsayimlar**\n",
    "\n",
    "    1-Esvaryanslik (homoscedasticity)\n",
    "\n",
    "    2- Cok degiskenli normallik (multivariate normality)\n",
    "    \n",
    "    3-Hatalarin bagimsizli (independence of errors)\n",
    "    \n",
    "    4-Coklu baglanti yoklugu (multicollineraity)\n",
    "    \n",
    "**Model Creation(Model kurma)**\n",
    "\n",
    "     1-Hepsini birden dahil et(ALL_IN):Guclu bir kuram\n",
    "     \n",
    "     2-Geriye dogru eleme (Backward Elimination)\n",
    "      #hepsini dahil et ve anlamligina goree zayiflari cikar \n",
    "     \n",
    "     3-ileri dogru Secme (Forward Selection)\n",
    "         #tek tek ekleyerek git\n",
    "     \n",
    "     4-iki yonlu eleyerek ecme (Biderectional elimination)\n",
    "\n",
    "     5-Sonuclari karsilastirma (Score Comparasion)\n",
    "     "
   ]
  },
  {
   "cell_type": "code",
   "execution_count": 20,
   "metadata": {},
   "outputs": [
    {
     "data": {
      "text/html": [
       "<div>\n",
       "<style scoped>\n",
       "    .dataframe tbody tr th:only-of-type {\n",
       "        vertical-align: middle;\n",
       "    }\n",
       "\n",
       "    .dataframe tbody tr th {\n",
       "        vertical-align: top;\n",
       "    }\n",
       "\n",
       "    .dataframe thead th {\n",
       "        text-align: right;\n",
       "    }\n",
       "</style>\n",
       "<table border=\"1\" class=\"dataframe\">\n",
       "  <thead>\n",
       "    <tr style=\"text-align: right;\">\n",
       "      <th></th>\n",
       "      <th>_c0</th>\n",
       "      <th>TV</th>\n",
       "      <th>Radio</th>\n",
       "      <th>Newspaper</th>\n",
       "      <th>Sales</th>\n",
       "    </tr>\n",
       "  </thead>\n",
       "  <tbody>\n",
       "    <tr>\n",
       "      <th>0</th>\n",
       "      <td>1</td>\n",
       "      <td>230.1</td>\n",
       "      <td>37.8</td>\n",
       "      <td>69.2</td>\n",
       "      <td>22.1</td>\n",
       "    </tr>\n",
       "    <tr>\n",
       "      <th>1</th>\n",
       "      <td>2</td>\n",
       "      <td>44.5</td>\n",
       "      <td>39.3</td>\n",
       "      <td>45.1</td>\n",
       "      <td>10.4</td>\n",
       "    </tr>\n",
       "  </tbody>\n",
       "</table>\n",
       "</div>"
      ],
      "text/plain": [
       "   _c0     TV  Radio  Newspaper  Sales\n",
       "0    1  230.1   37.8       69.2   22.1\n",
       "1    2   44.5   39.3       45.1   10.4"
      ]
     },
     "execution_count": 20,
     "metadata": {},
     "output_type": "execute_result"
    }
   ],
   "source": [
    "#Read the dataset\n",
    "df = spark.read.format(\"csv\") \\\n",
    "     .option(\"header\",True) \\\n",
    "     .option(\"sep\",\",\") \\\n",
    "     .option(\"inferSchema\",True) \\\n",
    "     .load(\"datasets/Advertising.csv\")\n",
    "\n",
    "df.toPandas().head(2)"
   ]
  },
  {
   "cell_type": "code",
   "execution_count": 21,
   "metadata": {},
   "outputs": [
    {
     "data": {
      "text/html": [
       "<div>\n",
       "<style scoped>\n",
       "    .dataframe tbody tr th:only-of-type {\n",
       "        vertical-align: middle;\n",
       "    }\n",
       "\n",
       "    .dataframe tbody tr th {\n",
       "        vertical-align: top;\n",
       "    }\n",
       "\n",
       "    .dataframe thead th {\n",
       "        text-align: right;\n",
       "    }\n",
       "</style>\n",
       "<table border=\"1\" class=\"dataframe\">\n",
       "  <thead>\n",
       "    <tr style=\"text-align: right;\">\n",
       "      <th></th>\n",
       "      <th>id</th>\n",
       "      <th>TV</th>\n",
       "      <th>Radio</th>\n",
       "      <th>Newspaper</th>\n",
       "      <th>label</th>\n",
       "    </tr>\n",
       "  </thead>\n",
       "  <tbody>\n",
       "    <tr>\n",
       "      <th>0</th>\n",
       "      <td>1</td>\n",
       "      <td>230.1</td>\n",
       "      <td>37.8</td>\n",
       "      <td>69.2</td>\n",
       "      <td>22.1</td>\n",
       "    </tr>\n",
       "    <tr>\n",
       "      <th>1</th>\n",
       "      <td>2</td>\n",
       "      <td>44.5</td>\n",
       "      <td>39.3</td>\n",
       "      <td>45.1</td>\n",
       "      <td>10.4</td>\n",
       "    </tr>\n",
       "  </tbody>\n",
       "</table>\n",
       "</div>"
      ],
      "text/plain": [
       "   id     TV  Radio  Newspaper  label\n",
       "0   1  230.1   37.8       69.2   22.1\n",
       "1   2   44.5   39.3       45.1   10.4"
      ]
     },
     "execution_count": 21,
     "metadata": {},
     "output_type": "execute_result"
    }
   ],
   "source": [
    "#sales label ,c0 id\n",
    "# Sütun İsimlerini Değiştirme\n",
    "change = [\"id\",\"TV\",\"Radio\",\"Newspaper\",\"label\"]\n",
    "df2 = df.selectExpr(\"_c0 as id\",\"TV\",\"Radio\",\"Newspaper\",\"Sales as label\")\n",
    "df2.toPandas().head(2)"
   ]
  },
  {
   "cell_type": "code",
   "execution_count": 22,
   "metadata": {},
   "outputs": [],
   "source": [
    "numeric_fea = [\"TV\",\"Radio\",\n",
    "               #,\"Newspaper\"#p values 0.5 buyuk oldugu icin cikardk\n",
    "              ]\n",
    "label = [\"label\"]"
   ]
  },
  {
   "cell_type": "code",
   "execution_count": 23,
   "metadata": {},
   "outputs": [
    {
     "data": {
      "text/html": [
       "<div>\n",
       "<style scoped>\n",
       "    .dataframe tbody tr th:only-of-type {\n",
       "        vertical-align: middle;\n",
       "    }\n",
       "\n",
       "    .dataframe tbody tr th {\n",
       "        vertical-align: top;\n",
       "    }\n",
       "\n",
       "    .dataframe thead th {\n",
       "        text-align: right;\n",
       "    }\n",
       "</style>\n",
       "<table border=\"1\" class=\"dataframe\">\n",
       "  <thead>\n",
       "    <tr style=\"text-align: right;\">\n",
       "      <th></th>\n",
       "      <th>summary</th>\n",
       "      <th>id</th>\n",
       "      <th>TV</th>\n",
       "      <th>Radio</th>\n",
       "      <th>Newspaper</th>\n",
       "      <th>label</th>\n",
       "    </tr>\n",
       "  </thead>\n",
       "  <tbody>\n",
       "    <tr>\n",
       "      <th>0</th>\n",
       "      <td>count</td>\n",
       "      <td>200</td>\n",
       "      <td>200</td>\n",
       "      <td>200</td>\n",
       "      <td>200</td>\n",
       "      <td>200</td>\n",
       "    </tr>\n",
       "    <tr>\n",
       "      <th>1</th>\n",
       "      <td>mean</td>\n",
       "      <td>100.5</td>\n",
       "      <td>147.0425</td>\n",
       "      <td>23.264000000000024</td>\n",
       "      <td>30.553999999999995</td>\n",
       "      <td>14.022500000000003</td>\n",
       "    </tr>\n",
       "    <tr>\n",
       "      <th>2</th>\n",
       "      <td>stddev</td>\n",
       "      <td>57.879184513951124</td>\n",
       "      <td>85.85423631490805</td>\n",
       "      <td>14.846809176168728</td>\n",
       "      <td>21.77862083852283</td>\n",
       "      <td>5.217456565710477</td>\n",
       "    </tr>\n",
       "    <tr>\n",
       "      <th>3</th>\n",
       "      <td>min</td>\n",
       "      <td>1</td>\n",
       "      <td>0.7</td>\n",
       "      <td>0.0</td>\n",
       "      <td>0.3</td>\n",
       "      <td>1.6</td>\n",
       "    </tr>\n",
       "    <tr>\n",
       "      <th>4</th>\n",
       "      <td>max</td>\n",
       "      <td>200</td>\n",
       "      <td>296.4</td>\n",
       "      <td>49.6</td>\n",
       "      <td>114.0</td>\n",
       "      <td>27.0</td>\n",
       "    </tr>\n",
       "  </tbody>\n",
       "</table>\n",
       "</div>"
      ],
      "text/plain": [
       "  summary                  id                 TV               Radio  \\\n",
       "0   count                 200                200                 200   \n",
       "1    mean               100.5           147.0425  23.264000000000024   \n",
       "2  stddev  57.879184513951124  85.85423631490805  14.846809176168728   \n",
       "3     min                   1                0.7                 0.0   \n",
       "4     max                 200              296.4                49.6   \n",
       "\n",
       "            Newspaper               label  \n",
       "0                 200                 200  \n",
       "1  30.553999999999995  14.022500000000003  \n",
       "2   21.77862083852283   5.217456565710477  \n",
       "3                 0.3                 1.6  \n",
       "4               114.0                27.0  "
      ]
     },
     "execution_count": 23,
     "metadata": {},
     "output_type": "execute_result"
    }
   ],
   "source": [
    "df2.describe().toPandas().head()"
   ]
  },
  {
   "cell_type": "code",
   "execution_count": 24,
   "metadata": {},
   "outputs": [
    {
     "data": {
      "text/html": [
       "<div>\n",
       "<style scoped>\n",
       "    .dataframe tbody tr th:only-of-type {\n",
       "        vertical-align: middle;\n",
       "    }\n",
       "\n",
       "    .dataframe tbody tr th {\n",
       "        vertical-align: top;\n",
       "    }\n",
       "\n",
       "    .dataframe thead th {\n",
       "        text-align: right;\n",
       "    }\n",
       "</style>\n",
       "<table border=\"1\" class=\"dataframe\">\n",
       "  <thead>\n",
       "    <tr style=\"text-align: right;\">\n",
       "      <th></th>\n",
       "      <th>id</th>\n",
       "      <th>TV</th>\n",
       "      <th>Radio</th>\n",
       "      <th>Newspaper</th>\n",
       "      <th>label</th>\n",
       "      <th>features</th>\n",
       "      <th>prediction</th>\n",
       "    </tr>\n",
       "  </thead>\n",
       "  <tbody>\n",
       "    <tr>\n",
       "      <th>0</th>\n",
       "      <td>4</td>\n",
       "      <td>151.5</td>\n",
       "      <td>41.3</td>\n",
       "      <td>58.5</td>\n",
       "      <td>18.5</td>\n",
       "      <td>[151.5, 41.3]</td>\n",
       "      <td>17.650134</td>\n",
       "    </tr>\n",
       "    <tr>\n",
       "      <th>1</th>\n",
       "      <td>9</td>\n",
       "      <td>8.6</td>\n",
       "      <td>2.1</td>\n",
       "      <td>1.0</td>\n",
       "      <td>4.8</td>\n",
       "      <td>[8.6, 2.1]</td>\n",
       "      <td>3.716108</td>\n",
       "    </tr>\n",
       "    <tr>\n",
       "      <th>2</th>\n",
       "      <td>11</td>\n",
       "      <td>66.1</td>\n",
       "      <td>5.8</td>\n",
       "      <td>24.2</td>\n",
       "      <td>8.6</td>\n",
       "      <td>[66.1, 5.8]</td>\n",
       "      <td>7.043478</td>\n",
       "    </tr>\n",
       "  </tbody>\n",
       "</table>\n",
       "</div>"
      ],
      "text/plain": [
       "   id     TV  Radio  Newspaper  label       features  prediction\n",
       "0   4  151.5   41.3       58.5   18.5  [151.5, 41.3]   17.650134\n",
       "1   9    8.6    2.1        1.0    4.8     [8.6, 2.1]    3.716108\n",
       "2  11   66.1    5.8       24.2    8.6    [66.1, 5.8]    7.043478"
      ]
     },
     "execution_count": 24,
     "metadata": {},
     "output_type": "execute_result"
    }
   ],
   "source": [
    "#preparation data\n",
    "from pyspark.ml.feature import VectorAssembler\n",
    "vector_assembler =VectorAssembler().setInputCols(numeric_fea).setOutputCol(\"features\")\n",
    "\n",
    "#Regression Model\n",
    "from pyspark.ml.regression import LinearRegression\n",
    "lr_obj = LinearRegression().setFeaturesCol(\"features\").setLabelCol(\"label\")\n",
    "\n",
    "#pipe-line\n",
    "from pyspark.ml import Pipeline\n",
    "pipeline_obj = Pipeline().setStages([vector_assembler,lr_obj])\n",
    "#Split test train\n",
    "train_df,test_df = df2.randomSplit([0.8,0.2],seed=142)\n",
    "#Model train\n",
    "pipeline_model=pipeline_obj.fit(train_df)\n",
    "#Model testing\n",
    "result_df=pipeline_model.transform(test_df)\n",
    "result_df.toPandas().head(3)\n",
    "\n"
   ]
  },
  {
   "cell_type": "markdown",
   "metadata": {},
   "source": [
    "### Lineer Modeli Pipeline Model İçinden Almak"
   ]
  },
  {
   "cell_type": "code",
   "execution_count": 25,
   "metadata": {},
   "outputs": [
    {
     "data": {
      "text/plain": [
       "DenseVector([0.0457, 0.1888])"
      ]
     },
     "execution_count": 25,
     "metadata": {},
     "output_type": "execute_result"
    }
   ],
   "source": [
    "#label actual,\n",
    "#pipeline model icinden linear modeli almak\n",
    "pipeline_model.stages\n",
    "lr_model=pipeline_model.stages[1]\n",
    "\n",
    "lr_model.coefficients"
   ]
  },
  {
   "cell_type": "code",
   "execution_count": 26,
   "metadata": {},
   "outputs": [
    {
     "data": {
      "text/plain": [
       "2.926454603092079"
      ]
     },
     "execution_count": 26,
     "metadata": {},
     "output_type": "execute_result"
    }
   ],
   "source": [
    "lr_model.intercept #sabit sayimiz"
   ]
  },
  {
   "cell_type": "code",
   "execution_count": 27,
   "metadata": {},
   "outputs": [
    {
     "data": {
      "text/plain": [
       "0.9063946363969204"
      ]
     },
     "execution_count": 27,
     "metadata": {},
     "output_type": "execute_result"
    }
   ],
   "source": [
    "lr_model.summary.r2\n",
    "#Toplam degiskenin %89 bu modelle aciklanabilinir demek"
   ]
  },
  {
   "cell_type": "code",
   "execution_count": 28,
   "metadata": {},
   "outputs": [
    {
     "data": {
      "text/plain": [
       "1.5678514278266518"
      ]
     },
     "execution_count": 28,
     "metadata": {},
     "output_type": "execute_result"
    }
   ],
   "source": [
    "lr_model.summary.rootMeanSquaredError"
   ]
  },
  {
   "cell_type": "code",
   "execution_count": 29,
   "metadata": {},
   "outputs": [
    {
     "data": {
      "text/plain": [
       "[0.0, 0.0, 0.0]"
      ]
     },
     "execution_count": 29,
     "metadata": {},
     "output_type": "execute_result"
    }
   ],
   "source": [
    "lr_model.summary.pValues\n",
    "#p degerleine gore model olusturmamiz lazim"
   ]
  },
  {
   "cell_type": "code",
   "execution_count": 30,
   "metadata": {},
   "outputs": [
    {
     "data": {
      "text/plain": [
       "[31.28678417062139, 22.454684697674782, 9.309569401834192]"
      ]
     },
     "execution_count": 30,
     "metadata": {},
     "output_type": "execute_result"
    }
   ],
   "source": [
    "lr_model.summary.tValues"
   ]
  },
  {
   "cell_type": "code",
   "execution_count": 31,
   "metadata": {},
   "outputs": [],
   "source": [
    "#backward ile yapalim\n",
    "#P degerleinde esik degerin ustunde kalanlari cikartarak yapicaz\n",
    "#newsapepr ustunde onu cikarmaliyiz 0.5717102604020492 ve ustte cikardik\n"
   ]
  },
  {
   "cell_type": "markdown",
   "metadata": {},
   "source": [
    "### Model Seçimi\n",
    "    \n",
    "    Geriye doğru eleme yönteminde Newspaper p değeri 0.05 değerinden büyük olduğu (0.5717) için modelden çıkarılır. Bunun için nümerik nitelikler listesinden Newspaper'ı çıkarmamız yeterli. Daha sonra o paragraftan itibaren tekrar çalıştıralım.\n",
    "    \n",
    "        İkinci denemede tüm p değerleri eşik değer altında kaldığı için regresyon modeli: \n",
    "    y = 2.935593134859488 + (0.0442 * TV) + (0.1978 * Radio)\n",
    "    \n",
    "### Prediction"
   ]
  },
  {
   "cell_type": "code",
   "execution_count": 32,
   "metadata": {},
   "outputs": [
    {
     "data": {
      "text/html": [
       "<div>\n",
       "<style scoped>\n",
       "    .dataframe tbody tr th:only-of-type {\n",
       "        vertical-align: middle;\n",
       "    }\n",
       "\n",
       "    .dataframe tbody tr th {\n",
       "        vertical-align: top;\n",
       "    }\n",
       "\n",
       "    .dataframe thead th {\n",
       "        text-align: right;\n",
       "    }\n",
       "</style>\n",
       "<table border=\"1\" class=\"dataframe\">\n",
       "  <thead>\n",
       "    <tr style=\"text-align: right;\">\n",
       "      <th></th>\n",
       "      <th>TV</th>\n",
       "      <th>Radio</th>\n",
       "    </tr>\n",
       "  </thead>\n",
       "  <tbody>\n",
       "    <tr>\n",
       "      <th>0</th>\n",
       "      <td>100.0</td>\n",
       "      <td>10.0</td>\n",
       "    </tr>\n",
       "  </tbody>\n",
       "</table>\n",
       "</div>"
      ],
      "text/plain": [
       "      TV  Radio\n",
       "0  100.0   10.0"
      ]
     },
     "execution_count": 32,
     "metadata": {},
     "output_type": "execute_result"
    }
   ],
   "source": [
    "#100k for TV and 10k for Radio\n",
    "#lets create dataframe\n",
    "import pandas as pd \n",
    "d = {\"TV\":[100.0],\"Radio\":[10.0]}\n",
    "df_df = pd.DataFrame(data=d)\n",
    "df_df.head(2)"
   ]
  },
  {
   "cell_type": "code",
   "execution_count": 33,
   "metadata": {},
   "outputs": [
    {
     "name": "stdout",
     "output_type": "stream",
     "text": [
      "+-----+-----+\n",
      "|   TV|Radio|\n",
      "+-----+-----+\n",
      "|100.0| 10.0|\n",
      "+-----+-----+\n",
      "\n"
     ]
    }
   ],
   "source": [
    "#spark data frame cevirelim\n",
    "predict_df = spark.createDataFrame(df_df)\n",
    "predict_df.show()"
   ]
  },
  {
   "cell_type": "code",
   "execution_count": 34,
   "metadata": {},
   "outputs": [
    {
     "name": "stdout",
     "output_type": "stream",
     "text": [
      "+-----+-----+------------+-----------------+\n",
      "|   TV|Radio|    features|       prediction|\n",
      "+-----+-----+------------+-----------------+\n",
      "|100.0| 10.0|[100.0,10.0]|9.386286831310258|\n",
      "+-----+-----+------------+-----------------+\n",
      "\n"
     ]
    }
   ],
   "source": [
    "predict_df_vec=vector_assembler.transform(predict_df)\n",
    "lr_model.transform(predict_df_vec).show()\n",
    "#satis mikatrin 9.3k olucakdur"
   ]
  },
  {
   "cell_type": "code",
   "execution_count": 35,
   "metadata": {},
   "outputs": [],
   "source": [
    "spark.stop()"
   ]
  },
  {
   "cell_type": "markdown",
   "metadata": {},
   "source": [
    "## Multi-Regression Example"
   ]
  },
  {
   "cell_type": "code",
   "execution_count": 36,
   "metadata": {},
   "outputs": [
    {
     "data": {
      "text/html": [
       "<div>\n",
       "<style scoped>\n",
       "    .dataframe tbody tr th:only-of-type {\n",
       "        vertical-align: middle;\n",
       "    }\n",
       "\n",
       "    .dataframe tbody tr th {\n",
       "        vertical-align: top;\n",
       "    }\n",
       "\n",
       "    .dataframe thead th {\n",
       "        text-align: right;\n",
       "    }\n",
       "</style>\n",
       "<table border=\"1\" class=\"dataframe\">\n",
       "  <thead>\n",
       "    <tr style=\"text-align: right;\">\n",
       "      <th></th>\n",
       "      <th>Country</th>\n",
       "      <th>Year</th>\n",
       "      <th>Status</th>\n",
       "      <th>Life expectancy</th>\n",
       "      <th>Adult Mortality</th>\n",
       "      <th>infant deaths</th>\n",
       "      <th>Alcohol</th>\n",
       "      <th>percentage expenditure</th>\n",
       "      <th>Hepatitis B</th>\n",
       "      <th>Measles</th>\n",
       "      <th>...</th>\n",
       "      <th>Polio</th>\n",
       "      <th>Total expenditure</th>\n",
       "      <th>Diphtheria</th>\n",
       "      <th>HIV/AIDS</th>\n",
       "      <th>GDP</th>\n",
       "      <th>Population</th>\n",
       "      <th>thinness  1-19 years</th>\n",
       "      <th>thinness 5-9 years</th>\n",
       "      <th>Income composition of resources</th>\n",
       "      <th>Schooling</th>\n",
       "    </tr>\n",
       "  </thead>\n",
       "  <tbody>\n",
       "    <tr>\n",
       "      <th>0</th>\n",
       "      <td>Afghanistan</td>\n",
       "      <td>2015</td>\n",
       "      <td>Developing</td>\n",
       "      <td>65.0</td>\n",
       "      <td>263.0</td>\n",
       "      <td>62</td>\n",
       "      <td>0.01</td>\n",
       "      <td>71.279624</td>\n",
       "      <td>65.0</td>\n",
       "      <td>1154</td>\n",
       "      <td>...</td>\n",
       "      <td>6.0</td>\n",
       "      <td>8.16</td>\n",
       "      <td>65.0</td>\n",
       "      <td>0.1</td>\n",
       "      <td>584.259210</td>\n",
       "      <td>33736494.0</td>\n",
       "      <td>17.2</td>\n",
       "      <td>17.3</td>\n",
       "      <td>0.479</td>\n",
       "      <td>10.1</td>\n",
       "    </tr>\n",
       "    <tr>\n",
       "      <th>1</th>\n",
       "      <td>Afghanistan</td>\n",
       "      <td>2014</td>\n",
       "      <td>Developing</td>\n",
       "      <td>59.9</td>\n",
       "      <td>271.0</td>\n",
       "      <td>64</td>\n",
       "      <td>0.01</td>\n",
       "      <td>73.523582</td>\n",
       "      <td>62.0</td>\n",
       "      <td>492</td>\n",
       "      <td>...</td>\n",
       "      <td>58.0</td>\n",
       "      <td>8.18</td>\n",
       "      <td>62.0</td>\n",
       "      <td>0.1</td>\n",
       "      <td>612.696514</td>\n",
       "      <td>327582.0</td>\n",
       "      <td>17.5</td>\n",
       "      <td>17.5</td>\n",
       "      <td>0.476</td>\n",
       "      <td>10.0</td>\n",
       "    </tr>\n",
       "    <tr>\n",
       "      <th>2</th>\n",
       "      <td>Afghanistan</td>\n",
       "      <td>2013</td>\n",
       "      <td>Developing</td>\n",
       "      <td>59.9</td>\n",
       "      <td>268.0</td>\n",
       "      <td>66</td>\n",
       "      <td>0.01</td>\n",
       "      <td>73.219243</td>\n",
       "      <td>64.0</td>\n",
       "      <td>430</td>\n",
       "      <td>...</td>\n",
       "      <td>62.0</td>\n",
       "      <td>8.13</td>\n",
       "      <td>64.0</td>\n",
       "      <td>0.1</td>\n",
       "      <td>631.744976</td>\n",
       "      <td>31731688.0</td>\n",
       "      <td>17.7</td>\n",
       "      <td>17.7</td>\n",
       "      <td>0.470</td>\n",
       "      <td>9.9</td>\n",
       "    </tr>\n",
       "    <tr>\n",
       "      <th>3</th>\n",
       "      <td>Afghanistan</td>\n",
       "      <td>2012</td>\n",
       "      <td>Developing</td>\n",
       "      <td>59.5</td>\n",
       "      <td>272.0</td>\n",
       "      <td>69</td>\n",
       "      <td>0.01</td>\n",
       "      <td>78.184215</td>\n",
       "      <td>67.0</td>\n",
       "      <td>2787</td>\n",
       "      <td>...</td>\n",
       "      <td>67.0</td>\n",
       "      <td>8.52</td>\n",
       "      <td>67.0</td>\n",
       "      <td>0.1</td>\n",
       "      <td>669.959000</td>\n",
       "      <td>3696958.0</td>\n",
       "      <td>17.9</td>\n",
       "      <td>18.0</td>\n",
       "      <td>0.463</td>\n",
       "      <td>9.8</td>\n",
       "    </tr>\n",
       "    <tr>\n",
       "      <th>4</th>\n",
       "      <td>Afghanistan</td>\n",
       "      <td>2011</td>\n",
       "      <td>Developing</td>\n",
       "      <td>59.2</td>\n",
       "      <td>275.0</td>\n",
       "      <td>71</td>\n",
       "      <td>0.01</td>\n",
       "      <td>7.097109</td>\n",
       "      <td>68.0</td>\n",
       "      <td>3013</td>\n",
       "      <td>...</td>\n",
       "      <td>68.0</td>\n",
       "      <td>7.87</td>\n",
       "      <td>68.0</td>\n",
       "      <td>0.1</td>\n",
       "      <td>63.537231</td>\n",
       "      <td>2978599.0</td>\n",
       "      <td>18.2</td>\n",
       "      <td>18.2</td>\n",
       "      <td>0.454</td>\n",
       "      <td>9.5</td>\n",
       "    </tr>\n",
       "  </tbody>\n",
       "</table>\n",
       "<p>5 rows × 22 columns</p>\n",
       "</div>"
      ],
      "text/plain": [
       "       Country  Year      Status  Life expectancy   Adult Mortality  \\\n",
       "0  Afghanistan  2015  Developing              65.0            263.0   \n",
       "1  Afghanistan  2014  Developing              59.9            271.0   \n",
       "2  Afghanistan  2013  Developing              59.9            268.0   \n",
       "3  Afghanistan  2012  Developing              59.5            272.0   \n",
       "4  Afghanistan  2011  Developing              59.2            275.0   \n",
       "\n",
       "   infant deaths  Alcohol  percentage expenditure  Hepatitis B  Measles   ...  \\\n",
       "0             62     0.01               71.279624         65.0      1154  ...   \n",
       "1             64     0.01               73.523582         62.0       492  ...   \n",
       "2             66     0.01               73.219243         64.0       430  ...   \n",
       "3             69     0.01               78.184215         67.0      2787  ...   \n",
       "4             71     0.01                7.097109         68.0      3013  ...   \n",
       "\n",
       "   Polio  Total expenditure  Diphtheria    HIV/AIDS         GDP  Population  \\\n",
       "0    6.0               8.16         65.0        0.1  584.259210  33736494.0   \n",
       "1   58.0               8.18         62.0        0.1  612.696514    327582.0   \n",
       "2   62.0               8.13         64.0        0.1  631.744976  31731688.0   \n",
       "3   67.0               8.52         67.0        0.1  669.959000   3696958.0   \n",
       "4   68.0               7.87         68.0        0.1   63.537231   2978599.0   \n",
       "\n",
       "    thinness  1-19 years   thinness 5-9 years  \\\n",
       "0                   17.2                 17.3   \n",
       "1                   17.5                 17.5   \n",
       "2                   17.7                 17.7   \n",
       "3                   17.9                 18.0   \n",
       "4                   18.2                 18.2   \n",
       "\n",
       "   Income composition of resources  Schooling  \n",
       "0                            0.479       10.1  \n",
       "1                            0.476       10.0  \n",
       "2                            0.470        9.9  \n",
       "3                            0.463        9.8  \n",
       "4                            0.454        9.5  \n",
       "\n",
       "[5 rows x 22 columns]"
      ]
     },
     "execution_count": 36,
     "metadata": {},
     "output_type": "execute_result"
    }
   ],
   "source": [
    "import findspark\n",
    "findspark.init(\"/Users/resitkadir/spark/spark-3.0.0/\")\n",
    "from pyspark.sql import SparkSession\n",
    "\n",
    "\n",
    "spark = SparkSession.builder \\\n",
    "        .appName(\"CokluLineerRegresyonOdevCevabi\") \\\n",
    "        .master(\"local[4]\") \\\n",
    "        .config(\"spark.driver.memory\",\"2g\") \\\n",
    "        .config(\"spark.executor.memory\",\"4g\") \\\n",
    "        .getOrCreate()\n",
    "\n",
    "#Read The data\n",
    "df = spark.read.format(\"csv\") \\\n",
    "        .option(\"header\", True) \\\n",
    "        .option(\"inferSchema\", True) \\\n",
    "        .option(\"sep\",\",\") \\\n",
    "        .load(\"datasets/Life_Expectancy_Data.csv\")\n",
    "\n",
    "df.toPandas().head()"
   ]
  },
  {
   "cell_type": "code",
   "execution_count": 37,
   "metadata": {},
   "outputs": [
    {
     "name": "stdout",
     "output_type": "stream",
     "text": [
      "root\n",
      " |-- Country: string (nullable = true)\n",
      " |-- Year: integer (nullable = true)\n",
      " |-- Status: string (nullable = true)\n",
      " |-- Life expectancy : double (nullable = true)\n",
      " |-- Adult Mortality: integer (nullable = true)\n",
      " |-- infant deaths: integer (nullable = true)\n",
      " |-- Alcohol: double (nullable = true)\n",
      " |-- percentage expenditure: double (nullable = true)\n",
      " |-- Hepatitis B: integer (nullable = true)\n",
      " |-- Measles : integer (nullable = true)\n",
      " |--  BMI : double (nullable = true)\n",
      " |-- under-five deaths : integer (nullable = true)\n",
      " |-- Polio: integer (nullable = true)\n",
      " |-- Total expenditure: double (nullable = true)\n",
      " |-- Diphtheria : integer (nullable = true)\n",
      " |--  HIV/AIDS: double (nullable = true)\n",
      " |-- GDP: double (nullable = true)\n",
      " |-- Population: double (nullable = true)\n",
      " |--  thinness  1-19 years: double (nullable = true)\n",
      " |--  thinness 5-9 years: double (nullable = true)\n",
      " |-- Income composition of resources: double (nullable = true)\n",
      " |-- Schooling: double (nullable = true)\n",
      "\n"
     ]
    }
   ],
   "source": [
    "df.printSchema()"
   ]
  },
  {
   "cell_type": "code",
   "execution_count": 38,
   "metadata": {},
   "outputs": [
    {
     "name": "stdout",
     "output_type": "stream",
     "text": [
      "root\n",
      " |-- Country: string (nullable = true)\n",
      " |-- Year: integer (nullable = true)\n",
      " |-- Status: string (nullable = true)\n",
      " |-- label: double (nullable = true)\n",
      " |-- AdultMortality: integer (nullable = true)\n",
      " |-- InfantDeaths: integer (nullable = true)\n",
      " |-- Alcohol: double (nullable = true)\n",
      " |-- PercentageExpenditure: double (nullable = true)\n",
      " |-- HepatitisB: integer (nullable = true)\n",
      " |-- Measles: integer (nullable = true)\n",
      " |-- BMI: double (nullable = true)\n",
      " |-- UnderFiveDeaths: integer (nullable = true)\n",
      " |-- Polio: integer (nullable = true)\n",
      " |-- TotalExpenditure: double (nullable = true)\n",
      " |-- Diphtheria: integer (nullable = true)\n",
      " |-- HIV_AIDS: double (nullable = true)\n",
      " |-- GDP: double (nullable = true)\n",
      " |-- Population: double (nullable = true)\n",
      " |-- Thinness119: double (nullable = true)\n",
      " |-- Thinness59: double (nullable = true)\n",
      " |-- IncomeCompositionOfResources: double (nullable = true)\n",
      " |-- Schooling: double (nullable = true)\n",
      "\n"
     ]
    }
   ],
   "source": [
    "# Nitelik isimlerini değiştir. Sıralamayı bozmadan.\n",
    "new_cols = [\"Country\", \"Year\", \"Status\", \"label\", \"AdultMortality\",\n",
    "      \"InfantDeaths\", \"Alcohol\", \"PercentageExpenditure\", \"HepatitisB\", \"Measles\", \"BMI\", \"UnderFiveDeaths\",\n",
    "      \"Polio\", \"TotalExpenditure\", \"Diphtheria\", \"HIV_AIDS\", \"GDP\", \"Population\", \"Thinness119\", \"Thinness59\",\n",
    "      \"IncomeCompositionOfResources\", \"Schooling\"]\n",
    "\n",
    "\n",
    "df2 = df.toDF(*new_cols)\n",
    "df2.printSchema()"
   ]
  },
  {
   "cell_type": "code",
   "execution_count": 39,
   "metadata": {},
   "outputs": [
    {
     "data": {
      "text/html": [
       "<div>\n",
       "<style scoped>\n",
       "    .dataframe tbody tr th:only-of-type {\n",
       "        vertical-align: middle;\n",
       "    }\n",
       "\n",
       "    .dataframe tbody tr th {\n",
       "        vertical-align: top;\n",
       "    }\n",
       "\n",
       "    .dataframe thead th {\n",
       "        text-align: right;\n",
       "    }\n",
       "</style>\n",
       "<table border=\"1\" class=\"dataframe\">\n",
       "  <thead>\n",
       "    <tr style=\"text-align: right;\">\n",
       "      <th></th>\n",
       "      <th>Country</th>\n",
       "      <th>Year</th>\n",
       "      <th>Status</th>\n",
       "      <th>label</th>\n",
       "      <th>AdultMortality</th>\n",
       "      <th>InfantDeaths</th>\n",
       "      <th>Alcohol</th>\n",
       "      <th>PercentageExpenditure</th>\n",
       "      <th>HepatitisB</th>\n",
       "      <th>Measles</th>\n",
       "      <th>...</th>\n",
       "      <th>Polio</th>\n",
       "      <th>TotalExpenditure</th>\n",
       "      <th>Diphtheria</th>\n",
       "      <th>HIV_AIDS</th>\n",
       "      <th>GDP</th>\n",
       "      <th>Population</th>\n",
       "      <th>Thinness119</th>\n",
       "      <th>Thinness59</th>\n",
       "      <th>IncomeCompositionOfResources</th>\n",
       "      <th>Schooling</th>\n",
       "    </tr>\n",
       "  </thead>\n",
       "  <tbody>\n",
       "    <tr>\n",
       "      <th>0</th>\n",
       "      <td>Afghanistan</td>\n",
       "      <td>2015</td>\n",
       "      <td>Developing</td>\n",
       "      <td>65.0</td>\n",
       "      <td>263.0</td>\n",
       "      <td>62</td>\n",
       "      <td>0.01</td>\n",
       "      <td>71.279624</td>\n",
       "      <td>65.0</td>\n",
       "      <td>1154</td>\n",
       "      <td>...</td>\n",
       "      <td>6.0</td>\n",
       "      <td>8.16</td>\n",
       "      <td>65.0</td>\n",
       "      <td>0.1</td>\n",
       "      <td>584.259210</td>\n",
       "      <td>33736494.0</td>\n",
       "      <td>17.2</td>\n",
       "      <td>17.3</td>\n",
       "      <td>0.479</td>\n",
       "      <td>10.1</td>\n",
       "    </tr>\n",
       "    <tr>\n",
       "      <th>1</th>\n",
       "      <td>Afghanistan</td>\n",
       "      <td>2014</td>\n",
       "      <td>Developing</td>\n",
       "      <td>59.9</td>\n",
       "      <td>271.0</td>\n",
       "      <td>64</td>\n",
       "      <td>0.01</td>\n",
       "      <td>73.523582</td>\n",
       "      <td>62.0</td>\n",
       "      <td>492</td>\n",
       "      <td>...</td>\n",
       "      <td>58.0</td>\n",
       "      <td>8.18</td>\n",
       "      <td>62.0</td>\n",
       "      <td>0.1</td>\n",
       "      <td>612.696514</td>\n",
       "      <td>327582.0</td>\n",
       "      <td>17.5</td>\n",
       "      <td>17.5</td>\n",
       "      <td>0.476</td>\n",
       "      <td>10.0</td>\n",
       "    </tr>\n",
       "    <tr>\n",
       "      <th>2</th>\n",
       "      <td>Afghanistan</td>\n",
       "      <td>2013</td>\n",
       "      <td>Developing</td>\n",
       "      <td>59.9</td>\n",
       "      <td>268.0</td>\n",
       "      <td>66</td>\n",
       "      <td>0.01</td>\n",
       "      <td>73.219243</td>\n",
       "      <td>64.0</td>\n",
       "      <td>430</td>\n",
       "      <td>...</td>\n",
       "      <td>62.0</td>\n",
       "      <td>8.13</td>\n",
       "      <td>64.0</td>\n",
       "      <td>0.1</td>\n",
       "      <td>631.744976</td>\n",
       "      <td>31731688.0</td>\n",
       "      <td>17.7</td>\n",
       "      <td>17.7</td>\n",
       "      <td>0.470</td>\n",
       "      <td>9.9</td>\n",
       "    </tr>\n",
       "    <tr>\n",
       "      <th>3</th>\n",
       "      <td>Afghanistan</td>\n",
       "      <td>2012</td>\n",
       "      <td>Developing</td>\n",
       "      <td>59.5</td>\n",
       "      <td>272.0</td>\n",
       "      <td>69</td>\n",
       "      <td>0.01</td>\n",
       "      <td>78.184215</td>\n",
       "      <td>67.0</td>\n",
       "      <td>2787</td>\n",
       "      <td>...</td>\n",
       "      <td>67.0</td>\n",
       "      <td>8.52</td>\n",
       "      <td>67.0</td>\n",
       "      <td>0.1</td>\n",
       "      <td>669.959000</td>\n",
       "      <td>3696958.0</td>\n",
       "      <td>17.9</td>\n",
       "      <td>18.0</td>\n",
       "      <td>0.463</td>\n",
       "      <td>9.8</td>\n",
       "    </tr>\n",
       "    <tr>\n",
       "      <th>4</th>\n",
       "      <td>Afghanistan</td>\n",
       "      <td>2011</td>\n",
       "      <td>Developing</td>\n",
       "      <td>59.2</td>\n",
       "      <td>275.0</td>\n",
       "      <td>71</td>\n",
       "      <td>0.01</td>\n",
       "      <td>7.097109</td>\n",
       "      <td>68.0</td>\n",
       "      <td>3013</td>\n",
       "      <td>...</td>\n",
       "      <td>68.0</td>\n",
       "      <td>7.87</td>\n",
       "      <td>68.0</td>\n",
       "      <td>0.1</td>\n",
       "      <td>63.537231</td>\n",
       "      <td>2978599.0</td>\n",
       "      <td>18.2</td>\n",
       "      <td>18.2</td>\n",
       "      <td>0.454</td>\n",
       "      <td>9.5</td>\n",
       "    </tr>\n",
       "  </tbody>\n",
       "</table>\n",
       "<p>5 rows × 22 columns</p>\n",
       "</div>"
      ],
      "text/plain": [
       "       Country  Year      Status  label  AdultMortality  InfantDeaths  \\\n",
       "0  Afghanistan  2015  Developing   65.0           263.0            62   \n",
       "1  Afghanistan  2014  Developing   59.9           271.0            64   \n",
       "2  Afghanistan  2013  Developing   59.9           268.0            66   \n",
       "3  Afghanistan  2012  Developing   59.5           272.0            69   \n",
       "4  Afghanistan  2011  Developing   59.2           275.0            71   \n",
       "\n",
       "   Alcohol  PercentageExpenditure  HepatitisB  Measles  ...  Polio  \\\n",
       "0     0.01              71.279624        65.0     1154  ...    6.0   \n",
       "1     0.01              73.523582        62.0      492  ...   58.0   \n",
       "2     0.01              73.219243        64.0      430  ...   62.0   \n",
       "3     0.01              78.184215        67.0     2787  ...   67.0   \n",
       "4     0.01               7.097109        68.0     3013  ...   68.0   \n",
       "\n",
       "   TotalExpenditure  Diphtheria  HIV_AIDS         GDP  Population  \\\n",
       "0              8.16        65.0       0.1  584.259210  33736494.0   \n",
       "1              8.18        62.0       0.1  612.696514    327582.0   \n",
       "2              8.13        64.0       0.1  631.744976  31731688.0   \n",
       "3              8.52        67.0       0.1  669.959000   3696958.0   \n",
       "4              7.87        68.0       0.1   63.537231   2978599.0   \n",
       "\n",
       "   Thinness119  Thinness59  IncomeCompositionOfResources  Schooling  \n",
       "0         17.2        17.3                         0.479       10.1  \n",
       "1         17.5        17.5                         0.476       10.0  \n",
       "2         17.7        17.7                         0.470        9.9  \n",
       "3         17.9        18.0                         0.463        9.8  \n",
       "4         18.2        18.2                         0.454        9.5  \n",
       "\n",
       "[5 rows x 22 columns]"
      ]
     },
     "execution_count": 39,
     "metadata": {},
     "output_type": "execute_result"
    }
   ],
   "source": [
    "df2.toPandas().head()"
   ]
  },
  {
   "cell_type": "code",
   "execution_count": 40,
   "metadata": {},
   "outputs": [
    {
     "data": {
      "text/plain": [
       "1649"
      ]
     },
     "execution_count": 40,
     "metadata": {},
     "output_type": "execute_result"
    }
   ],
   "source": [
    "# Türlerine Göre Nitelikleri Ayırma\n",
    "categorical_cols = [\"Country\",\"Status\"]\n",
    "'''\n",
    "numerical_cols = [\"Year\", \"AdultMortality\",\n",
    "      \"InfantDeaths\", \"Alcohol\", \"PercentageExpenditure\", \"HepatitisB\", \"Measles\", \"BMI\", \"UnderFiveDeaths\",\n",
    "      \"Polio\", \"TotalExpenditure\", \"Diphtheria\", \"HIV_AIDS\", \"GDP\", \"Population\", \"Thinness119\", \"Thinness59\",\n",
    "      \"IncomeCompositionOfResources\", \"Schooling\"]\n",
    "'''\n",
    "numerical_cols = [\"Year\", \"AdultMortality\",\n",
    "      \"InfantDeaths\", \"Alcohol\",   \"BMI\", \"UnderFiveDeaths\",\n",
    "      \"TotalExpenditure\", \"Diphtheria\", \"HIV_AIDS\", \"GDP\",  \n",
    "      \"IncomeCompositionOfResources\", \"Schooling\"]\n",
    "label = [\"label\"]\n",
    "#Data Cleaning\n",
    "\n",
    "df3 = df2.na.drop()\n",
    "df3.count()"
   ]
  },
  {
   "cell_type": "code",
   "execution_count": 41,
   "metadata": {},
   "outputs": [
    {
     "data": {
      "text/html": [
       "<div>\n",
       "<style scoped>\n",
       "    .dataframe tbody tr th:only-of-type {\n",
       "        vertical-align: middle;\n",
       "    }\n",
       "\n",
       "    .dataframe tbody tr th {\n",
       "        vertical-align: top;\n",
       "    }\n",
       "\n",
       "    .dataframe thead th {\n",
       "        text-align: right;\n",
       "    }\n",
       "</style>\n",
       "<table border=\"1\" class=\"dataframe\">\n",
       "  <thead>\n",
       "    <tr style=\"text-align: right;\">\n",
       "      <th></th>\n",
       "      <th>label</th>\n",
       "      <th>prediction</th>\n",
       "    </tr>\n",
       "  </thead>\n",
       "  <tbody>\n",
       "    <tr>\n",
       "      <th>0</th>\n",
       "      <td>54.8</td>\n",
       "      <td>57.477491</td>\n",
       "    </tr>\n",
       "    <tr>\n",
       "      <th>1</th>\n",
       "      <td>55.3</td>\n",
       "      <td>57.968683</td>\n",
       "    </tr>\n",
       "    <tr>\n",
       "      <th>2</th>\n",
       "      <td>56.2</td>\n",
       "      <td>63.517118</td>\n",
       "    </tr>\n",
       "    <tr>\n",
       "      <th>3</th>\n",
       "      <td>57.0</td>\n",
       "      <td>58.917665</td>\n",
       "    </tr>\n",
       "    <tr>\n",
       "      <th>4</th>\n",
       "      <td>57.3</td>\n",
       "      <td>60.973816</td>\n",
       "    </tr>\n",
       "    <tr>\n",
       "      <th>5</th>\n",
       "      <td>57.3</td>\n",
       "      <td>60.965253</td>\n",
       "    </tr>\n",
       "    <tr>\n",
       "      <th>6</th>\n",
       "      <td>57.5</td>\n",
       "      <td>61.271526</td>\n",
       "    </tr>\n",
       "    <tr>\n",
       "      <th>7</th>\n",
       "      <td>58.6</td>\n",
       "      <td>62.330411</td>\n",
       "    </tr>\n",
       "    <tr>\n",
       "      <th>8</th>\n",
       "      <td>59.2</td>\n",
       "      <td>62.914456</td>\n",
       "    </tr>\n",
       "    <tr>\n",
       "      <th>9</th>\n",
       "      <td>59.5</td>\n",
       "      <td>63.417605</td>\n",
       "    </tr>\n",
       "  </tbody>\n",
       "</table>\n",
       "</div>"
      ],
      "text/plain": [
       "   label  prediction\n",
       "0   54.8   57.477491\n",
       "1   55.3   57.968683\n",
       "2   56.2   63.517118\n",
       "3   57.0   58.917665\n",
       "4   57.3   60.973816\n",
       "5   57.3   60.965253\n",
       "6   57.5   61.271526\n",
       "7   58.6   62.330411\n",
       "8   59.2   62.914456\n",
       "9   59.5   63.417605"
      ]
     },
     "execution_count": 41,
     "metadata": {},
     "output_type": "execute_result"
    }
   ],
   "source": [
    "#DAta preprocessing\n",
    "from pyspark.ml.feature import StringIndexer, OneHotEncoder, VectorAssembler\n",
    "from pyspark.ml import Pipeline, PipelineModel\n",
    "from pyspark.ml.regression import LinearRegression, LinearRegressionModel\n",
    "\n",
    "\n",
    "#StringIndexer\n",
    "# Country'de kategori sayısı çok fazla olduğundan analize dahil etmedik\n",
    "status_string_indexer = StringIndexer().setInputCol(\"Status\").setOutputCol(\"StatusIndexed\")\n",
    "\n",
    "#OneHotEncoder\n",
    "encoder = OneHotEncoder().setInputCols([\"StatusIndexed\"]).setOutputCols([\"StatusEncoded\"])\n",
    "\n",
    "#VectorAssembler\n",
    "vector_assembler = VectorAssembler().setInputCols(numerical_cols + encoder.getOutputCols()).setOutputCol(\"features\")\n",
    "\n",
    "#Lineer Model\n",
    "linear_regression_object = LinearRegression().setFeaturesCol(\"features\").setLabelCol(\"label\")\n",
    "\n",
    "\n",
    "#pipeline\n",
    "\n",
    "pipeline_object = Pipeline().setStages([status_string_indexer, encoder, vector_assembler, linear_regression_object])\n",
    "\n",
    "#Veri setini train-test ayırma\n",
    "train_df, test_df = df3.randomSplit([0.8, 0.2], seed=142)\n",
    "train_df.cache()\n",
    "test_df.cache()\n",
    "\n",
    "## Modeli Eğitme\n",
    "pipeline_model = pipeline_object.fit(train_df)\n",
    "pipeline_model.transform(train_df).select(\"label\",\"prediction\").toPandas().head(10)\n"
   ]
  },
  {
   "cell_type": "markdown",
   "metadata": {},
   "source": [
    "### Lineer Modeli Pipeline Model İçinden Almak"
   ]
  },
  {
   "cell_type": "code",
   "execution_count": 42,
   "metadata": {},
   "outputs": [
    {
     "data": {
      "text/plain": [
       "[StringIndexerModel: uid=StringIndexer_43b4d3b86c93, handleInvalid=error,\n",
       " OneHotEncoderModel: uid=OneHotEncoder_f7a4b9b8e522, dropLast=true, handleInvalid=error, numInputCols=1, numOutputCols=1,\n",
       " VectorAssembler_370ab6fca250,\n",
       " LinearRegressionModel: uid=LinearRegression_5bb233257612, numFeatures=13]"
      ]
     },
     "execution_count": 42,
     "metadata": {},
     "output_type": "execute_result"
    }
   ],
   "source": [
    "pipeline_model.stages"
   ]
  },
  {
   "cell_type": "code",
   "execution_count": 43,
   "metadata": {},
   "outputs": [],
   "source": [
    "lr_model = pipeline_model.stages[-1]"
   ]
  },
  {
   "cell_type": "code",
   "execution_count": 44,
   "metadata": {},
   "outputs": [
    {
     "data": {
      "text/plain": [
       "DenseVector([-0.1288, -0.017, 0.0837, -0.1189, 0.0322, -0.0638, 0.1301, 0.0189, -0.4489, 0.0001, 9.5061, 0.9633, -0.7417])"
      ]
     },
     "execution_count": 44,
     "metadata": {},
     "output_type": "execute_result"
    }
   ],
   "source": [
    "lr_model.coefficients"
   ]
  },
  {
   "cell_type": "code",
   "execution_count": 45,
   "metadata": {},
   "outputs": [
    {
     "data": {
      "text/plain": [
       "311.38582512126834"
      ]
     },
     "execution_count": 45,
     "metadata": {},
     "output_type": "execute_result"
    }
   ],
   "source": [
    "lr_model.intercept"
   ]
  },
  {
   "cell_type": "code",
   "execution_count": 46,
   "metadata": {},
   "outputs": [
    {
     "data": {
      "text/plain": [
       "0.8376909414684949"
      ]
     },
     "execution_count": 46,
     "metadata": {},
     "output_type": "execute_result"
    }
   ],
   "source": [
    "lr_model.summary.r2"
   ]
  },
  {
   "cell_type": "code",
   "execution_count": 47,
   "metadata": {},
   "outputs": [
    {
     "data": {
      "text/plain": [
       "3.548258073692097"
      ]
     },
     "execution_count": 47,
     "metadata": {},
     "output_type": "execute_result"
    }
   ],
   "source": [
    "lr_model.summary.rootMeanSquaredError"
   ]
  },
  {
   "cell_type": "code",
   "execution_count": 48,
   "metadata": {},
   "outputs": [
    {
     "data": {
      "text/plain": [
       "[4.906680344252123e-07,\n",
       " 0.0,\n",
       " 1.0839773523230178e-11,\n",
       " 0.0013139767268131042,\n",
       " 3.488250992500497e-07,\n",
       " 4.583222690257571e-12,\n",
       " 0.0032213559086500254,\n",
       " 0.00010182824188298412,\n",
       " 0.0,\n",
       " 2.0167800762749266e-10,\n",
       " 0.0,\n",
       " 0.0,\n",
       " 0.04916901684857211,\n",
       " 1.388568815485769e-09]"
      ]
     },
     "execution_count": 48,
     "metadata": {},
     "output_type": "execute_result"
    }
   ],
   "source": [
    "lr_model.summary.pValues"
   ]
  },
  {
   "cell_type": "code",
   "execution_count": 49,
   "metadata": {},
   "outputs": [
    {
     "data": {
      "text/plain": [
       "[-5.055419563326975,\n",
       " -15.941254538270861,\n",
       " 6.856859783076918,\n",
       " -3.2199032389729627,\n",
       " 5.1214264046069236,\n",
       " -6.983291352567848,\n",
       " 2.9512647331799053,\n",
       " 3.89823326824372,\n",
       " -22.824045885241958,\n",
       " 6.41098466173556,\n",
       " 10.633613335912266,\n",
       " 14.734853131467316,\n",
       " -1.9689627057884276,\n",
       " 6.100865298620751]"
      ]
     },
     "execution_count": 49,
     "metadata": {},
     "output_type": "execute_result"
    }
   ],
   "source": [
    "lr_model.summary.tValues"
   ]
  },
  {
   "cell_type": "code",
   "execution_count": 50,
   "metadata": {},
   "outputs": [
    {
     "name": "stdout",
     "output_type": "stream",
     "text": [
      "(0.0, 'AdultMortality')\n",
      "(0.0, 'HIV_AIDS')\n",
      "(0.0, 'IncomeCompositionOfResources')\n",
      "(0.0, 'Schooling')\n",
      "(4.583222690257571e-12, 'UnderFiveDeaths')\n",
      "(1.0839773523230178e-11, 'InfantDeaths')\n",
      "(2.0167800762749266e-10, 'GDP')\n",
      "(1.388568815485769e-09, 'Sabit')\n",
      "(3.488250992500497e-07, 'BMI')\n",
      "(4.906680344252123e-07, 'Year')\n",
      "(0.00010182824188298412, 'Diphtheria')\n",
      "(0.0013139767268131042, 'Alcohol')\n",
      "(0.0032213559086500254, 'TotalExpenditure')\n",
      "(0.04916901684857211, 'Status')\n"
     ]
    }
   ],
   "source": [
    "#Niteliklerle pValues bir arada\n",
    "zipped = zip(lr_model.summary.pValues,numerical_cols+[\"Status\",\"Sabit\"])\n",
    "sorted_zip = sorted(zipped)\n",
    "\n",
    "for i in sorted_zip:\n",
    "    print(i)\n",
    "#0.05 den buyuk deger kalmiyana kadar gidicez Pvalue"
   ]
  },
  {
   "cell_type": "markdown",
   "metadata": {},
   "source": [
    "    (0.0, 'AdultMortality')\n",
    "    (0.0, 'HIV_AIDS')\n",
    "    (0.0, 'IncomeCompositionOfResources')\n",
    "    (0.0, 'Schooling')\n",
    "    (1.021405182655144e-14, 'UnderFiveDeaths')\n",
    "    (9.037215420448774e-14, 'InfantDeaths')\n",
    "    (8.194222855806288e-09, 'Sabit')\n",
    "    (2.214080842888322e-06, 'Year')\n",
    "    (9.277282233099982e-06, 'BMI')\n",
    "    (0.0069944469886213945, 'Alcohol')\n",
    "    (0.03194558950457549, 'Diphtheria')\n",
    "    (0.033259070668361534, 'Status')\n",
    "    (0.041134342157394865, 'TotalExpenditure')\n",
    "    6. Tur (0.14696628529633227, 'Polio')\n",
    "    7. Tur (0.20657371462857865, 'Thinness59')\n",
    "    (0.2415689423147689, 'GDP')\n",
    "    5. Tur (0.3280541792373892, 'HepatitisB')\n",
    "    4. Tur (0.4246739503761421, 'PercentageExpenditure')\n",
    "    3. Tur (0.46316882090430034, 'Measles')\n",
    "    2. Tur (0.6154505536890638, 'Thinness119')\n",
    "    1. Tur (0.9774634776466289, 'Population')\n",
    "    \n",
    "    \n",
    "    \n",
    "            7. Turdan sonra tüm nitelikler 0.05 eşik değeri altında kaldığı için model tamamlanmıştır.\n",
    "        (0.0, 'AdultMortality')\n",
    "        (0.0, 'HIV_AIDS')\n",
    "        (0.0, 'IncomeCompositionOfResources')\n",
    "        (0.0, 'Schooling')\n",
    "        (4.218847493575595e-15, 'UnderFiveDeaths')\n",
    "        (1.554312234475219e-14, 'InfantDeaths')\n",
    "        (7.28083149326153e-10, 'GDP')\n",
    "        (9.313896320861659e-10, 'Sabit')\n",
    "        (6.888301440355349e-08, 'BMI')\n",
    "        (3.7210678383026163e-07, 'Year')\n",
    "        (0.0037352078727632687, 'Diphtheria')\n",
    "        (0.011812369488869878, 'Alcohol')\n",
    "        (0.02289647691655916, 'TotalExpenditure')\n",
    "        (0.036279656005715255, 'Status')"
   ]
  },
  {
   "cell_type": "code",
   "execution_count": 51,
   "metadata": {},
   "outputs": [],
   "source": [
    "#spark.stop()"
   ]
  },
  {
   "cell_type": "markdown",
   "metadata": {},
   "source": [
    "# Hyperparameters and optimizations\n",
    "\n",
    "**PARAMETRE**\n",
    "\n",
    "    Model parametresi,modele dahil olan ve degeri veriden tahmin edilebilecek bir konfirigasyon degiskenidir.\n",
    "    \n",
    "    1-Egitim esnasinda tahmin edilir ve ogrenilir.\n",
    "    \n",
    "    2-Tahmin yaparken model tarafindan istenir.\n",
    "    \n",
    "    3-Genellikle kullanici tarafindan elle ayarlanmaz.\n",
    "    \n",
    "    Ørnek olarak,yapay sinir aglarindaki agirliklar,Regresyondaki katsayilar,SVM deki destek vectorleri\n",
    " \n",
    "**hiperparametre**\n",
    "\n",
    "    Model hiperparametresi,modele harici. olan ve degeri veriden tahmin edilemeyen bir configurasyondur.\n",
    "    \n",
    "    Genelllikle model parametrelerinin tahmin edilmesini yardimci olan sureclerde kullanilir.Kullanici tarfindan belirlenir.\n",
    "    \n",
    "    Genellikle ongorulen modlleme problemi icin ayarlanmistir(tune).\n",
    "    \n",
    "    Ornekler:\n",
    "        1-K-means teknigindeki k belirlenmesinde(kullanici belirler)\n",
    "        2-Random forest icin agac sayisi\n",
    "        3-Ridge ve Lasso duzenleyiciler icin Lambda degeri\n",
    "        4-Deep Learningde katman sayisi ve ogrenme orani(Learning rate)\n",
    "        \n",
    "        \n",
    "**Hiper parametreleri icin ideal degerler**\n",
    "\n",
    "    Grid Search(olasi tum kombinasyonlar)\n",
    "    \n",
    "Elle bir model parametresi belirmeniz gerekiyorsa,o muhtemeken bir **hiper parametredir.**\n",
    "\n",
    "\n",
    "**Linear Regresyon icin hiperparametreler**\n",
    "\n",
    "**elasticNetParam:**\n",
    "\n",
    "    Regulasyon ile ilgilidir.Lasso(L1) ve Ridge(L2) duzenleyicilerine ait LAmbda katsayisinin 0-1 ayarlamasidir.0.0 tamamen L2,1.0 ise L1 cezasidir.Varsayilan 0.0\n",
    "    \n",
    "**loss** \n",
    "       \n",
    "       : *Modeli optimize edecek hata fonksiyonudur.Varsayilan fonksiyon \"saqureError\" digeri ise \"huber\"dir\n",
    "            Varsayilan :square Error' dur.*\n",
    "            \n",
    "**MaxIter** :\n",
    "\n",
    "        MAximum iterasyon sayisi,Varsayilan :100\n",
    "        \n",
    "**Cross Validaion** *Ornegin bese ayir 4 u egitim biri test olarak kullan, ve her iterasyonda farkli yeri test diye kullan*\n",
    "\n",
    "**Train -Validation Split**"
   ]
  },
  {
   "cell_type": "code",
   "execution_count": 52,
   "metadata": {},
   "outputs": [
    {
     "data": {
      "text/plain": [
       "DataFrame[Country: string, Year: int, Status: string, label: double, AdultMortality: int, InfantDeaths: int, Alcohol: double, PercentageExpenditure: double, HepatitisB: int, Measles: int, BMI: double, UnderFiveDeaths: int, Polio: int, TotalExpenditure: double, Diphtheria: int, HIV_AIDS: double, GDP: double, Population: double, Thinness119: double, Thinness59: double, IncomeCompositionOfResources: double, Schooling: double]"
      ]
     },
     "execution_count": 52,
     "metadata": {},
     "output_type": "execute_result"
    }
   ],
   "source": [
    "from pyspark.ml.evaluation import RegressionEvaluator\n",
    "from pyspark.ml.tuning import CrossValidator, ParamGridBuilder\n",
    "\n",
    "\n",
    "#paramgrid\n",
    "#tum olasilik combinasyonlarini tutugumuz yer\n",
    "param_grid = ParamGridBuilder() \\\n",
    "            .addGrid(lr_obj.aggregationDepth, [2,5]) \\\n",
    "            .addGrid(lr_obj.elasticNetParam, [0.0, 0.2, 0.7]) \\\n",
    "            .addGrid(lr_obj.epsilon, [1.35, 1.55]) \\\n",
    "            .addGrid(lr_obj.maxIter, [10, 20]) \\\n",
    "            .addGrid(lr_obj.regParam, [0.00, 0.01, 0.05]) \\\n",
    "            .addGrid(lr_obj.solver, [\"auto\", \"normal\", \"l-bfgs\"]) \\\n",
    "            .addGrid(lr_obj.tol, [1.0E-6, 1.0E-4]) \\\n",
    "            .build()\n",
    "\n",
    "\n",
    "#Cross Validation\n",
    "\n",
    "cv = CrossValidator() \\\n",
    "    .setEstimator(pipeline_object) \\\n",
    "    .setEvaluator(RegressionEvaluator()) \\\n",
    "    .setEstimatorParamMaps(param_grid) \\\n",
    "    .setNumFolds(5) \\\n",
    "    .setParallelism(2)\n",
    "\n",
    "\n",
    "df_train, df_test = df3.randomSplit([0.9, 0.2], seed=142)\n",
    "df_train.cache()\n",
    "df_test.cache()"
   ]
  },
  {
   "cell_type": "code",
   "execution_count": 53,
   "metadata": {},
   "outputs": [
    {
     "data": {
      "text/html": [
       "<div>\n",
       "<style scoped>\n",
       "    .dataframe tbody tr th:only-of-type {\n",
       "        vertical-align: middle;\n",
       "    }\n",
       "\n",
       "    .dataframe tbody tr th {\n",
       "        vertical-align: top;\n",
       "    }\n",
       "\n",
       "    .dataframe thead th {\n",
       "        text-align: right;\n",
       "    }\n",
       "</style>\n",
       "<table border=\"1\" class=\"dataframe\">\n",
       "  <thead>\n",
       "    <tr style=\"text-align: right;\">\n",
       "      <th></th>\n",
       "      <th>label</th>\n",
       "      <th>prediction</th>\n",
       "    </tr>\n",
       "  </thead>\n",
       "  <tbody>\n",
       "    <tr>\n",
       "      <th>0</th>\n",
       "      <td>65.0</td>\n",
       "      <td>63.565448</td>\n",
       "    </tr>\n",
       "    <tr>\n",
       "      <th>1</th>\n",
       "      <td>59.9</td>\n",
       "      <td>63.345039</td>\n",
       "    </tr>\n",
       "    <tr>\n",
       "      <th>2</th>\n",
       "      <td>59.9</td>\n",
       "      <td>63.369293</td>\n",
       "    </tr>\n",
       "    <tr>\n",
       "      <th>3</th>\n",
       "      <td>59.5</td>\n",
       "      <td>63.363253</td>\n",
       "    </tr>\n",
       "    <tr>\n",
       "      <th>4</th>\n",
       "      <td>59.2</td>\n",
       "      <td>62.868723</td>\n",
       "    </tr>\n",
       "  </tbody>\n",
       "</table>\n",
       "</div>"
      ],
      "text/plain": [
       "   label  prediction\n",
       "0   65.0   63.565448\n",
       "1   59.9   63.345039\n",
       "2   59.9   63.369293\n",
       "3   59.5   63.363253\n",
       "4   59.2   62.868723"
      ]
     },
     "execution_count": 53,
     "metadata": {},
     "output_type": "execute_result"
    }
   ],
   "source": [
    "cv_model = cv.fit(df_train)\n",
    "cv_model.transform(df3).select(\"label\",\"prediction\").toPandas().head()"
   ]
  },
  {
   "cell_type": "markdown",
   "metadata": {},
   "source": [
    "### THE BEST MODEL DECISION"
   ]
  },
  {
   "cell_type": "code",
   "execution_count": 55,
   "metadata": {},
   "outputs": [],
   "source": [
    "# En iyi pipeline model\n",
    "best_model = cv_model.bestModel"
   ]
  },
  {
   "cell_type": "code",
   "execution_count": 56,
   "metadata": {},
   "outputs": [
    {
     "data": {
      "text/plain": [
       "pyspark.ml.pipeline.PipelineModel"
      ]
     },
     "execution_count": 56,
     "metadata": {},
     "output_type": "execute_result"
    }
   ],
   "source": [
    "type(best_model)#pipeline cinsi"
   ]
  },
  {
   "cell_type": "code",
   "execution_count": 57,
   "metadata": {},
   "outputs": [
    {
     "data": {
      "text/plain": [
       "PipelineModel_5e6409bed9b2"
      ]
     },
     "execution_count": 57,
     "metadata": {},
     "output_type": "execute_result"
    }
   ],
   "source": [
    "best_model"
   ]
  },
  {
   "cell_type": "code",
   "execution_count": 58,
   "metadata": {},
   "outputs": [
    {
     "data": {
      "text/plain": [
       "DenseVector([-0.1288, -0.017, 0.0837, -0.1189, 0.0322, -0.0638, 0.1301, 0.0189, -0.4489, 0.0001, 9.5061, 0.9633, -0.7417])"
      ]
     },
     "execution_count": 58,
     "metadata": {},
     "output_type": "execute_result"
    }
   ],
   "source": [
    "lr_model.coefficients"
   ]
  },
  {
   "cell_type": "code",
   "execution_count": 59,
   "metadata": {},
   "outputs": [
    {
     "data": {
      "text/plain": [
       "311.38582512126834"
      ]
     },
     "execution_count": 59,
     "metadata": {},
     "output_type": "execute_result"
    }
   ],
   "source": [
    "lr_model.intercept"
   ]
  },
  {
   "cell_type": "code",
   "execution_count": 60,
   "metadata": {},
   "outputs": [
    {
     "data": {
      "text/plain": [
       "'aggregationDepth: suggested depth for treeAggregate (>= 2). (default: 2)\\nelasticNetParam: the ElasticNet mixing parameter, in range [0, 1]. For alpha = 0, the penalty is an L2 penalty. For alpha = 1, it is an L1 penalty. (default: 0.0)\\nepsilon: The shape parameter to control the amount of robustness. Must be > 1.0. Only valid when loss is huber (default: 1.35)\\nfeaturesCol: features column name. (default: features, current: features)\\nfitIntercept: whether to fit an intercept term. (default: True)\\nlabelCol: label column name. (default: label, current: label)\\nloss: The loss function to be optimized. Supported options: squaredError, huber. (default: squaredError)\\nmaxIter: max number of iterations (>= 0). (default: 100)\\npredictionCol: prediction column name. (default: prediction)\\nregParam: regularization parameter (>= 0). (default: 0.0)\\nsolver: The solver algorithm for optimization. Supported options: auto, normal, l-bfgs. (default: auto)\\nstandardization: whether to standardize the training features before fitting the model. (default: True)\\ntol: the convergence tolerance for iterative algorithms (>= 0). (default: 1e-06)\\nweightCol: weight column name. If this is not set or empty, we treat all instance weights as 1.0. (undefined)'"
      ]
     },
     "execution_count": 60,
     "metadata": {},
     "output_type": "execute_result"
    }
   ],
   "source": [
    "lr_model.explainParams()"
   ]
  },
  {
   "cell_type": "code",
   "execution_count": 61,
   "metadata": {},
   "outputs": [
    {
     "data": {
      "text/plain": [
       "0.8376909414684949"
      ]
     },
     "execution_count": 61,
     "metadata": {},
     "output_type": "execute_result"
    }
   ],
   "source": [
    "lr_model.summary.r2\n",
    "#tunning yapmadan elde ettigimiz deger"
   ]
  },
  {
   "cell_type": "code",
   "execution_count": 62,
   "metadata": {},
   "outputs": [
    {
     "data": {
      "text/plain": [
       "[StringIndexerModel: uid=StringIndexer_43b4d3b86c93, handleInvalid=error,\n",
       " OneHotEncoderModel: uid=OneHotEncoder_f7a4b9b8e522, dropLast=true, handleInvalid=error, numInputCols=1, numOutputCols=1,\n",
       " VectorAssembler_370ab6fca250,\n",
       " LinearRegressionModel: uid=LinearRegression_5bb233257612, numFeatures=13]"
      ]
     },
     "execution_count": 62,
     "metadata": {},
     "output_type": "execute_result"
    }
   ],
   "source": [
    "pipeline_model.stages"
   ]
  },
  {
   "cell_type": "code",
   "execution_count": 63,
   "metadata": {},
   "outputs": [],
   "source": [
    "# En iyi pipeline model içinden lr modeli almak\n",
    "#pipe linde daki stages -1 alinca linear regressyonu secmis oluyoruz\n",
    "lr_model = best_model.stages[-1]"
   ]
  },
  {
   "cell_type": "code",
   "execution_count": 64,
   "metadata": {},
   "outputs": [
    {
     "data": {
      "text/plain": [
       "DenseVector([-0.1325, -0.0169, 0.0776, -0.1209, 0.0327, -0.0594, 0.1327, 0.0196, -0.4508, 0.0001, 9.6153, 0.9558, -0.7429])"
      ]
     },
     "execution_count": 64,
     "metadata": {},
     "output_type": "execute_result"
    }
   ],
   "source": [
    "lr_model.coefficients"
   ]
  },
  {
   "cell_type": "code",
   "execution_count": 65,
   "metadata": {},
   "outputs": [
    {
     "data": {
      "text/plain": [
       "['aggregationDepth: suggested depth for treeAggregate (>= 2). (default: 2)',\n",
       " 'elasticNetParam: the ElasticNet mixing parameter, in range [0, 1]. For alpha = 0, the penalty is an L2 penalty. For alpha = 1, it is an L1 penalty. (default: 0.0)',\n",
       " 'epsilon: The shape parameter to control the amount of robustness. Must be > 1.0. Only valid when loss is huber (default: 1.35)',\n",
       " 'featuresCol: features column name. (default: features, current: features)',\n",
       " 'fitIntercept: whether to fit an intercept term. (default: True)',\n",
       " 'labelCol: label column name. (default: label, current: label)',\n",
       " 'loss: The loss function to be optimized. Supported options: squaredError, huber. (default: squaredError)',\n",
       " 'maxIter: max number of iterations (>= 0). (default: 100)',\n",
       " 'predictionCol: prediction column name. (default: prediction)',\n",
       " 'regParam: regularization parameter (>= 0). (default: 0.0)',\n",
       " 'solver: The solver algorithm for optimization. Supported options: auto, normal, l-bfgs. (default: auto)',\n",
       " 'standardization: whether to standardize the training features before fitting the model. (default: True)',\n",
       " 'tol: the convergence tolerance for iterative algorithms (>= 0). (default: 1e-06)',\n",
       " 'weightCol: weight column name. If this is not set or empty, we treat all instance weights as 1.0. (undefined)']"
      ]
     },
     "execution_count": 65,
     "metadata": {},
     "output_type": "execute_result"
    }
   ],
   "source": [
    "lr_model.explainParams().split(\"\\n\")"
   ]
  },
  {
   "cell_type": "code",
   "execution_count": null,
   "metadata": {},
   "outputs": [],
   "source": []
  }
 ],
 "metadata": {
  "kernelspec": {
   "display_name": "Python 3",
   "language": "python",
   "name": "python3"
  },
  "language_info": {
   "codemirror_mode": {
    "name": "ipython",
    "version": 3
   },
   "file_extension": ".py",
   "mimetype": "text/x-python",
   "name": "python",
   "nbconvert_exporter": "python",
   "pygments_lexer": "ipython3",
   "version": "3.7.6"
  }
 },
 "nbformat": 4,
 "nbformat_minor": 4
}
